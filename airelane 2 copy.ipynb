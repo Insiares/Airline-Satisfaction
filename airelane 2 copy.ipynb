{
 "cells": [
  {
   "cell_type": "code",
   "execution_count": 1,
   "metadata": {},
   "outputs": [],
   "source": [
    "import pandas as pd\n",
    "from sklearn.metrics import precision_score, recall_score, f1_score, roc_auc_score, confusion_matrix\n",
    "from sklearn.model_selection import train_test_split\n",
    "from sklearn.linear_model import LogisticRegression\n",
    "from sklearn.metrics import accuracy_score\n"
   ]
  },
  {
   "cell_type": "code",
   "execution_count": 2,
   "metadata": {},
   "outputs": [
    {
     "data": {
      "text/html": [
       "<div>\n",
       "<style scoped>\n",
       "    .dataframe tbody tr th:only-of-type {\n",
       "        vertical-align: middle;\n",
       "    }\n",
       "\n",
       "    .dataframe tbody tr th {\n",
       "        vertical-align: top;\n",
       "    }\n",
       "\n",
       "    .dataframe thead th {\n",
       "        text-align: right;\n",
       "    }\n",
       "</style>\n",
       "<table border=\"1\" class=\"dataframe\">\n",
       "  <thead>\n",
       "    <tr style=\"text-align: right;\">\n",
       "      <th></th>\n",
       "      <th>Age</th>\n",
       "      <th>Flight_Distance</th>\n",
       "      <th>Inflight_wifi_service</th>\n",
       "      <th>Departure_Arrival_time_convenient</th>\n",
       "      <th>Ease_of_Online_booking</th>\n",
       "      <th>Gate_location</th>\n",
       "      <th>Food_and_drink</th>\n",
       "      <th>Online_boarding</th>\n",
       "      <th>Seat_comfort</th>\n",
       "      <th>Inflight_entertainment</th>\n",
       "      <th>...</th>\n",
       "      <th>Total_Delay</th>\n",
       "      <th>Gender_Female</th>\n",
       "      <th>Gender_Male</th>\n",
       "      <th>Customer_Type_Loyal Customer</th>\n",
       "      <th>Customer_Type_disloyal Customer</th>\n",
       "      <th>Type_of_Travel_Business travel</th>\n",
       "      <th>Type_of_Travel_Personal Travel</th>\n",
       "      <th>Class_Business</th>\n",
       "      <th>Class_Eco</th>\n",
       "      <th>Class_Eco Plus</th>\n",
       "    </tr>\n",
       "  </thead>\n",
       "  <tbody>\n",
       "    <tr>\n",
       "      <th>count</th>\n",
       "      <td>129487.000000</td>\n",
       "      <td>129487.000000</td>\n",
       "      <td>129487.000000</td>\n",
       "      <td>129487.000000</td>\n",
       "      <td>129487.000000</td>\n",
       "      <td>129487.000000</td>\n",
       "      <td>129487.000000</td>\n",
       "      <td>129487.000000</td>\n",
       "      <td>129487.000000</td>\n",
       "      <td>129487.000000</td>\n",
       "      <td>...</td>\n",
       "      <td>129487.000000</td>\n",
       "      <td>129487.000000</td>\n",
       "      <td>129487.000000</td>\n",
       "      <td>129487.000000</td>\n",
       "      <td>129487.000000</td>\n",
       "      <td>129487.000000</td>\n",
       "      <td>129487.000000</td>\n",
       "      <td>129487.000000</td>\n",
       "      <td>129487.000000</td>\n",
       "      <td>129487.000000</td>\n",
       "    </tr>\n",
       "    <tr>\n",
       "      <th>mean</th>\n",
       "      <td>39.428761</td>\n",
       "      <td>1190.210662</td>\n",
       "      <td>2.728544</td>\n",
       "      <td>3.057349</td>\n",
       "      <td>2.756786</td>\n",
       "      <td>2.976909</td>\n",
       "      <td>3.204685</td>\n",
       "      <td>3.252720</td>\n",
       "      <td>3.441589</td>\n",
       "      <td>3.358067</td>\n",
       "      <td>...</td>\n",
       "      <td>29.734514</td>\n",
       "      <td>0.507410</td>\n",
       "      <td>0.492590</td>\n",
       "      <td>0.816862</td>\n",
       "      <td>0.183138</td>\n",
       "      <td>0.690764</td>\n",
       "      <td>0.309236</td>\n",
       "      <td>0.478735</td>\n",
       "      <td>0.448825</td>\n",
       "      <td>0.072440</td>\n",
       "    </tr>\n",
       "    <tr>\n",
       "      <th>std</th>\n",
       "      <td>15.117597</td>\n",
       "      <td>997.560954</td>\n",
       "      <td>1.329235</td>\n",
       "      <td>1.526787</td>\n",
       "      <td>1.401662</td>\n",
       "      <td>1.278506</td>\n",
       "      <td>1.329905</td>\n",
       "      <td>1.350651</td>\n",
       "      <td>1.319168</td>\n",
       "      <td>1.334149</td>\n",
       "      <td>...</td>\n",
       "      <td>75.732722</td>\n",
       "      <td>0.499947</td>\n",
       "      <td>0.499947</td>\n",
       "      <td>0.386781</td>\n",
       "      <td>0.386781</td>\n",
       "      <td>0.462180</td>\n",
       "      <td>0.462180</td>\n",
       "      <td>0.499550</td>\n",
       "      <td>0.497376</td>\n",
       "      <td>0.259216</td>\n",
       "    </tr>\n",
       "    <tr>\n",
       "      <th>min</th>\n",
       "      <td>7.000000</td>\n",
       "      <td>31.000000</td>\n",
       "      <td>0.000000</td>\n",
       "      <td>0.000000</td>\n",
       "      <td>0.000000</td>\n",
       "      <td>0.000000</td>\n",
       "      <td>0.000000</td>\n",
       "      <td>0.000000</td>\n",
       "      <td>0.000000</td>\n",
       "      <td>0.000000</td>\n",
       "      <td>...</td>\n",
       "      <td>0.000000</td>\n",
       "      <td>0.000000</td>\n",
       "      <td>0.000000</td>\n",
       "      <td>0.000000</td>\n",
       "      <td>0.000000</td>\n",
       "      <td>0.000000</td>\n",
       "      <td>0.000000</td>\n",
       "      <td>0.000000</td>\n",
       "      <td>0.000000</td>\n",
       "      <td>0.000000</td>\n",
       "    </tr>\n",
       "    <tr>\n",
       "      <th>25%</th>\n",
       "      <td>27.000000</td>\n",
       "      <td>414.000000</td>\n",
       "      <td>2.000000</td>\n",
       "      <td>2.000000</td>\n",
       "      <td>2.000000</td>\n",
       "      <td>2.000000</td>\n",
       "      <td>2.000000</td>\n",
       "      <td>2.000000</td>\n",
       "      <td>2.000000</td>\n",
       "      <td>2.000000</td>\n",
       "      <td>...</td>\n",
       "      <td>0.000000</td>\n",
       "      <td>0.000000</td>\n",
       "      <td>0.000000</td>\n",
       "      <td>1.000000</td>\n",
       "      <td>0.000000</td>\n",
       "      <td>0.000000</td>\n",
       "      <td>0.000000</td>\n",
       "      <td>0.000000</td>\n",
       "      <td>0.000000</td>\n",
       "      <td>0.000000</td>\n",
       "    </tr>\n",
       "    <tr>\n",
       "      <th>50%</th>\n",
       "      <td>40.000000</td>\n",
       "      <td>844.000000</td>\n",
       "      <td>3.000000</td>\n",
       "      <td>3.000000</td>\n",
       "      <td>3.000000</td>\n",
       "      <td>3.000000</td>\n",
       "      <td>3.000000</td>\n",
       "      <td>3.000000</td>\n",
       "      <td>4.000000</td>\n",
       "      <td>4.000000</td>\n",
       "      <td>...</td>\n",
       "      <td>2.000000</td>\n",
       "      <td>1.000000</td>\n",
       "      <td>0.000000</td>\n",
       "      <td>1.000000</td>\n",
       "      <td>0.000000</td>\n",
       "      <td>1.000000</td>\n",
       "      <td>0.000000</td>\n",
       "      <td>0.000000</td>\n",
       "      <td>0.000000</td>\n",
       "      <td>0.000000</td>\n",
       "    </tr>\n",
       "    <tr>\n",
       "      <th>75%</th>\n",
       "      <td>51.000000</td>\n",
       "      <td>1744.000000</td>\n",
       "      <td>4.000000</td>\n",
       "      <td>4.000000</td>\n",
       "      <td>4.000000</td>\n",
       "      <td>4.000000</td>\n",
       "      <td>4.000000</td>\n",
       "      <td>4.000000</td>\n",
       "      <td>5.000000</td>\n",
       "      <td>4.000000</td>\n",
       "      <td>...</td>\n",
       "      <td>24.000000</td>\n",
       "      <td>1.000000</td>\n",
       "      <td>1.000000</td>\n",
       "      <td>1.000000</td>\n",
       "      <td>0.000000</td>\n",
       "      <td>1.000000</td>\n",
       "      <td>1.000000</td>\n",
       "      <td>1.000000</td>\n",
       "      <td>1.000000</td>\n",
       "      <td>0.000000</td>\n",
       "    </tr>\n",
       "    <tr>\n",
       "      <th>max</th>\n",
       "      <td>85.000000</td>\n",
       "      <td>4983.000000</td>\n",
       "      <td>5.000000</td>\n",
       "      <td>5.000000</td>\n",
       "      <td>5.000000</td>\n",
       "      <td>5.000000</td>\n",
       "      <td>5.000000</td>\n",
       "      <td>5.000000</td>\n",
       "      <td>5.000000</td>\n",
       "      <td>5.000000</td>\n",
       "      <td>...</td>\n",
       "      <td>3176.000000</td>\n",
       "      <td>1.000000</td>\n",
       "      <td>1.000000</td>\n",
       "      <td>1.000000</td>\n",
       "      <td>1.000000</td>\n",
       "      <td>1.000000</td>\n",
       "      <td>1.000000</td>\n",
       "      <td>1.000000</td>\n",
       "      <td>1.000000</td>\n",
       "      <td>1.000000</td>\n",
       "    </tr>\n",
       "  </tbody>\n",
       "</table>\n",
       "<p>8 rows × 26 columns</p>\n",
       "</div>"
      ],
      "text/plain": [
       "                 Age  Flight_Distance  Inflight_wifi_service  \\\n",
       "count  129487.000000    129487.000000          129487.000000   \n",
       "mean       39.428761      1190.210662               2.728544   \n",
       "std        15.117597       997.560954               1.329235   \n",
       "min         7.000000        31.000000               0.000000   \n",
       "25%        27.000000       414.000000               2.000000   \n",
       "50%        40.000000       844.000000               3.000000   \n",
       "75%        51.000000      1744.000000               4.000000   \n",
       "max        85.000000      4983.000000               5.000000   \n",
       "\n",
       "       Departure_Arrival_time_convenient  Ease_of_Online_booking  \\\n",
       "count                      129487.000000           129487.000000   \n",
       "mean                            3.057349                2.756786   \n",
       "std                             1.526787                1.401662   \n",
       "min                             0.000000                0.000000   \n",
       "25%                             2.000000                2.000000   \n",
       "50%                             3.000000                3.000000   \n",
       "75%                             4.000000                4.000000   \n",
       "max                             5.000000                5.000000   \n",
       "\n",
       "       Gate_location  Food_and_drink  Online_boarding   Seat_comfort  \\\n",
       "count  129487.000000   129487.000000    129487.000000  129487.000000   \n",
       "mean        2.976909        3.204685         3.252720       3.441589   \n",
       "std         1.278506        1.329905         1.350651       1.319168   \n",
       "min         0.000000        0.000000         0.000000       0.000000   \n",
       "25%         2.000000        2.000000         2.000000       2.000000   \n",
       "50%         3.000000        3.000000         3.000000       4.000000   \n",
       "75%         4.000000        4.000000         4.000000       5.000000   \n",
       "max         5.000000        5.000000         5.000000       5.000000   \n",
       "\n",
       "       Inflight_entertainment  ...    Total_Delay  Gender_Female  \\\n",
       "count           129487.000000  ...  129487.000000  129487.000000   \n",
       "mean                 3.358067  ...      29.734514       0.507410   \n",
       "std                  1.334149  ...      75.732722       0.499947   \n",
       "min                  0.000000  ...       0.000000       0.000000   \n",
       "25%                  2.000000  ...       0.000000       0.000000   \n",
       "50%                  4.000000  ...       2.000000       1.000000   \n",
       "75%                  4.000000  ...      24.000000       1.000000   \n",
       "max                  5.000000  ...    3176.000000       1.000000   \n",
       "\n",
       "         Gender_Male  Customer_Type_Loyal Customer  \\\n",
       "count  129487.000000                 129487.000000   \n",
       "mean        0.492590                      0.816862   \n",
       "std         0.499947                      0.386781   \n",
       "min         0.000000                      0.000000   \n",
       "25%         0.000000                      1.000000   \n",
       "50%         0.000000                      1.000000   \n",
       "75%         1.000000                      1.000000   \n",
       "max         1.000000                      1.000000   \n",
       "\n",
       "       Customer_Type_disloyal Customer  Type_of_Travel_Business travel  \\\n",
       "count                    129487.000000                   129487.000000   \n",
       "mean                          0.183138                        0.690764   \n",
       "std                           0.386781                        0.462180   \n",
       "min                           0.000000                        0.000000   \n",
       "25%                           0.000000                        0.000000   \n",
       "50%                           0.000000                        1.000000   \n",
       "75%                           0.000000                        1.000000   \n",
       "max                           1.000000                        1.000000   \n",
       "\n",
       "       Type_of_Travel_Personal Travel  Class_Business      Class_Eco  \\\n",
       "count                   129487.000000   129487.000000  129487.000000   \n",
       "mean                         0.309236        0.478735       0.448825   \n",
       "std                          0.462180        0.499550       0.497376   \n",
       "min                          0.000000        0.000000       0.000000   \n",
       "25%                          0.000000        0.000000       0.000000   \n",
       "50%                          0.000000        0.000000       0.000000   \n",
       "75%                          1.000000        1.000000       1.000000   \n",
       "max                          1.000000        1.000000       1.000000   \n",
       "\n",
       "       Class_Eco Plus  \n",
       "count   129487.000000  \n",
       "mean         0.072440  \n",
       "std          0.259216  \n",
       "min          0.000000  \n",
       "25%          0.000000  \n",
       "50%          0.000000  \n",
       "75%          0.000000  \n",
       "max          1.000000  \n",
       "\n",
       "[8 rows x 26 columns]"
      ]
     },
     "execution_count": 2,
     "metadata": {},
     "output_type": "execute_result"
    }
   ],
   "source": [
    "\n",
    "data = pd.read_csv(\"Airline_Dataset.csv\")\n",
    "\n",
    "data = data.rename(columns={\n",
    "    'Gender': 'Gender',\n",
    "    'Customer Type': 'Customer_Type',\n",
    "    'Type of Travel': 'Type_of_Travel',\n",
    "    'Class': 'Class',\n",
    "    'Satisfaction': 'Satisfaction',\n",
    "    'id': 'ID',\n",
    "    'Age': 'Age',\n",
    "    'Flight Distance': 'Flight_Distance',\n",
    "    'Departure/Arrival time convenient': 'Departure_Arrival_time_convenient',\n",
    "    'Ease of Online booking': 'Ease_of_Online_booking',\n",
    "    'Gate location': 'Gate_location',\n",
    "    'Departure Delay in Minutes': 'Departure_Delay_in_Minutes',\n",
    "    'Arrival Delay in Minutes': 'Arrival_Delay_in_Minutes',\n",
    "    'Inflight wifi service': 'Inflight_wifi_service',\n",
    "    'Food and drink': 'Food_and_drink',\n",
    "    'Online boarding': 'Online_boarding',\n",
    "    'Seat comfort': 'Seat_comfort',\n",
    "    'Inflight entertainment': 'Inflight_entertainment',\n",
    "    'On-board service': 'On_board_service',\n",
    "    'Leg room service': 'Leg_room_service',\n",
    "    'Baggage handling': 'Baggage_handling',\n",
    "    'Checkin service': 'Checkin_service',\n",
    "    'Inflight service': 'Inflight_service',\n",
    "    'Cleanliness': 'Cleanliness'\n",
    "\n",
    "})\n",
    "\n",
    "data = data.dropna()\n",
    "\n",
    "\n",
    "data['Total_Delay'] = data['Departure_Delay_in_Minutes'] + data['Arrival_Delay_in_Minutes']\n",
    "data=data.drop(['Departure_Delay_in_Minutes'], axis=1)\n",
    "data=data.drop(['Arrival_Delay_in_Minutes'], axis=1)\n",
    "\n",
    "data['Satisfaction'] = data['Satisfaction'].map({'neutral or dissatisfied': 0, 'satisfied': 1})\n",
    "\n",
    "groundT =data['Satisfaction']\n",
    "data=data.drop(['Satisfaction'], axis=1)\n",
    "data=data.drop(['ID'], axis=1)\n",
    "\n",
    "data = pd.get_dummies(data, columns=['Gender', 'Customer_Type', 'Type_of_Travel', 'Class'])\n",
    "\n",
    "data.to_csv(\"donnees_nettoyees.cvs\", index=False)\n",
    "data.describe()\n"
   ]
  },
  {
   "cell_type": "code",
   "execution_count": 3,
   "metadata": {},
   "outputs": [
    {
     "name": "stdout",
     "output_type": "stream",
     "text": [
      "Accuracy: 83.63%\n"
     ]
    },
    {
     "name": "stderr",
     "output_type": "stream",
     "text": [
      "c:\\Users\\briac\\anaconda3\\Lib\\site-packages\\sklearn\\linear_model\\_logistic.py:460: ConvergenceWarning: lbfgs failed to converge (status=1):\n",
      "STOP: TOTAL NO. of ITERATIONS REACHED LIMIT.\n",
      "\n",
      "Increase the number of iterations (max_iter) or scale the data as shown in:\n",
      "    https://scikit-learn.org/stable/modules/preprocessing.html\n",
      "Please also refer to the documentation for alternative solver options:\n",
      "    https://scikit-learn.org/stable/modules/linear_model.html#logistic-regression\n",
      "  n_iter_i = _check_optimize_result(\n"
     ]
    }
   ],
   "source": [
    "X = data\n",
    "y = groundT\n",
    "\n",
    "X_train, X_test, y_train, y_test = train_test_split(X, y, test_size=0.2, random_state=42)\n",
    "\n",
    "model = LogisticRegression()\n",
    "model.fit(X_train, y_train)\n",
    "\n",
    "y_pred = model.predict(X_test)\n",
    "accuracy = accuracy_score(y_test, y_pred)\n",
    "print(\"Accuracy: {:.2f}%\".format(accuracy * 100))"
   ]
  },
  {
   "cell_type": "code",
   "execution_count": 4,
   "metadata": {},
   "outputs": [],
   "source": [
    "from catboost import CatBoostClassifier\n",
    "from sklearn.model_selection import RandomizedSearchCV\n",
    "import scipy.stats as stats\n",
    "results = {\n",
    "    \"Model\": [],\n",
    "    \"Accuracy\": [],\n",
    "    \"Precision\": [],\n",
    "    \"Recall\": [],\n",
    "    \"F1\": [],\n",
    "    \"AUC-ROC\": [],\n",
    "    \"Confusion Matrix\": []\n",
    "}\n",
    "# # Définir la distribution des paramètres à échantillonner\n",
    "# param_dist = {\n",
    "#     'iterations': stats.randint(100, 2000),\n",
    "#     'learning_rate': stats.uniform(0.01, 0.3),\n",
    "#     'depth': stats.randint(6, 12),\n",
    "# }\n",
    "\n",
    "# catboost = CatBoostClassifier()\n",
    "\n",
    "# random_search = RandomizedSearchCV(catboost, param_distributions=param_dist, n_iter=100, cv=5, scoring='accuracy')\n",
    "# random_search.fit(X_train, y_train)\n",
    "\n",
    "# print(\"Meilleurs paramètres trouvés : \", random_search.best_params_)\n",
    "\n",
    "# best_catboost = random_search.best_estimator_\n",
    "# best_catboost.fit(X_train, y_train)"
   ]
  },
  {
   "cell_type": "code",
   "execution_count": null,
   "metadata": {},
   "outputs": [],
   "source": []
  },
  {
   "cell_type": "code",
   "execution_count": 5,
   "metadata": {},
   "outputs": [],
   "source": [
    "# from catboost import CatBoostClassifier\n",
    "# from sklearn.model_selection import GridSearchCV\n",
    "# catboost = CatBoostClassifier(task_type='GPU')\n",
    "\n",
    "# param_grid = {\n",
    "#     'iterations': [300, 400, 500, 600,700, 800, 900, 1000, 1100, 1200, 1300, 1400],\n",
    "#     'learning_rate': [ 0.015,0.1, 0.05, 0.2, 0.25, 0.17, 0,13, 0.08, 0.03 ],\n",
    "#     'depth': [8, 7, 6, 5, 4, 9, 10, 11, 12]\n",
    "# }\n",
    "# grid_search = GridSearchCV(catboost, param_grid, cv=2 scoring='accuracy')\n",
    "# grid_search.fit(X_train, y_train)\n",
    "\n",
    "# print(\"Meilleurs paramètres trouvés : \", grid_search.best_params_)\n",
    "# best_catboost2 = grid_search.best_estimator_\n",
    "# print (grid_search.best_estimator_)\n",
    "# best_catboost2.fit(X_train, y_train)\n"
   ]
  },
  {
   "cell_type": "code",
   "execution_count": 6,
   "metadata": {},
   "outputs": [
    {
     "name": "stdout",
     "output_type": "stream",
     "text": [
      "                         Model  Accuracy  Precision    Recall        F1  \\\n",
      "0  CatBoost8 (Best Parameters)  0.964939   0.972187  0.946215  0.959025   \n",
      "\n",
      "    AUC-ROC              Confusion Matrix  \n",
      "0  0.995328  [[14364, 304], [604, 10626]]  \n"
     ]
    }
   ],
   "source": [
    "best_params = {\n",
    "    'depth': 8,\n",
    "    'iterations': 653,\n",
    "    'learning_rate': 0.05\n",
    "}\n",
    "\n",
    "best_catboost_model = CatBoostClassifier(verbose=False, **best_params)\n",
    "\n",
    "best_catboost_model.fit(X_train, y_train)\n",
    "\n",
    "y_pred = best_catboost_model.predict(X_test)\n",
    "\n",
    "accuracy = accuracy_score(y_test, y_pred)\n",
    "precision = precision_score(y_test, y_pred)\n",
    "recall = recall_score(y_test, y_pred)\n",
    "f1 = f1_score(y_test, y_pred)\n",
    "auc_roc = roc_auc_score(y_test, best_catboost_model.predict_proba(X_test)[:, 1])\n",
    "cm = confusion_matrix(y_test, y_pred)\n",
    "\n",
    "results[\"Model\"].append(\"CatBoost8 (Best Parameters)\")\n",
    "results[\"Accuracy\"].append(accuracy)\n",
    "results[\"Precision\"].append(precision)\n",
    "results[\"Recall\"].append(recall)\n",
    "results[\"F1\"].append(f1)\n",
    "results[\"AUC-ROC\"].append(auc_roc)\n",
    "results[\"Confusion Matrix\"].append(cm)\n",
    "\n",
    "results_df = pd.DataFrame(results)\n",
    "\n",
    "results_df = results_df.sort_values(by=\"AUC-ROC\", ascending=False)\n",
    "\n",
    "print(results_df)"
   ]
  },
  {
   "cell_type": "code",
   "execution_count": 7,
   "metadata": {},
   "outputs": [],
   "source": [
    "import pandas as pd\n",
    "from catboost import CatBoostClassifier\n",
    "from catboost import CatBoostClassifier\n",
    "\n",
    "\n",
    "def predict_satisfaction(model, donnees_passager, valeurs_par_defaut=None):\n",
    "    \"\"\"\n",
    "    Prédit la satisfaction du passager en utilisant un modèle CatBoost.\n",
    "\n",
    "    Args:\n",
    "        model (CatBoostClassifier): Le modèle CatBoost entraîné.\n",
    "        donnees_passager (dict): Un dictionnaire contenant les données du passager pour faire les prédictions.\n",
    "        valeurs_par_defaut (dict, optionnel): Un dictionnaire contenant les valeurs par défaut pour les données manquantes.\n",
    "        # est ce que je le rajoute ou pas \n",
    "\n",
    "    Returns:\n",
    "        int: Satisfaction prédite (0 pour non satisfait, 1 pour satisfait).\n",
    "    \"\"\"\n",
    "    if valeurs_par_defaut is not None:\n",
    "        for cle, valeur in valeurs_par_defaut.items():\n",
    "            if cle not in donnees_passager:\n",
    "                donnees_passager[cle] = valeur\n",
    "\n",
    "    donnees_entree = pd.DataFrame(donnees_passager, index=[0])\n",
    "\n",
    "    prediction = model.predict(donnees_entree)\n",
    "\n",
    "    return prediction\n",
    "\n",
    "donnees_passager = {}\n",
    "#resultat = predict_satisfaction(best_catboost_model, donnees_passager)\n"
   ]
  },
  {
   "cell_type": "code",
   "execution_count": 8,
   "metadata": {},
   "outputs": [],
   "source": [
    "best_catboost_model.save_model(\"meilleur_modele_catboost.model\")"
   ]
  },
  {
   "cell_type": "code",
   "execution_count": 9,
   "metadata": {},
   "outputs": [],
   "source": [
    "loaded_model = CatBoostClassifier()\n",
    "loaded_model.load_model(\"meilleur_modele_catboost.model\")\n",
    "\n",
    "y_pred_loaded = loaded_model.predict(X_test)\n"
   ]
  },
  {
   "cell_type": "code",
   "execution_count": 10,
   "metadata": {},
   "outputs": [
    {
     "name": "stderr",
     "output_type": "stream",
     "text": [
      "C:\\Users\\briac\\AppData\\Local\\Temp\\ipykernel_18532\\2752162182.py:6: FutureWarning: \n",
      "\n",
      "`shade` is now deprecated in favor of `fill`; setting `fill=True`.\n",
      "This will become an error in seaborn v0.14.0; please update your code.\n",
      "\n",
      "  sns.kdeplot(data['Age'], shade=True, color=\"blue\")\n"
     ]
    },
    {
     "data": {
      "image/png": "[encoded data removed]",
      "text/plain": [
       "<Figure size 800x600 with 1 Axes>"
      ]
     },
     "metadata": {},
     "output_type": "display_data"
    }
   ],
   "source": [
    "import seaborn as sns\n",
    "import matplotlib.pyplot as plt\n",
    "\n",
    "plt.figure(figsize=(8, 6))\n",
    "sns.kdeplot(data['Age'], shade=True, color=\"blue\")\n",
    "plt.title(\"Courbe de densité de l'âge\")\n",
    "plt.xlabel(\"Âge\")\n",
    "plt.ylabel(\"Densité\")\n",
    "plt.show()\n"
   ]
  },
  {
   "cell_type": "code",
   "execution_count": 12,
   "metadata": {},
   "outputs": [
    {
     "data": {
      "application/vnd.plotly.v1+json": {
       "config": {
        "plotlyServerURL": "https://plot.ly"
       },
       "data": [
        {
         "hovertemplate": "PC1=%{x}<br>PC2=%{y}<br>PC3=%{z}<br>Satisfaction=%{marker.color}<extra></extra>",
         "legendgroup": "",
         "marker": {
          "color": [
           1,
           0,
           0,
           0,
           0,
           0,
           1,
           1,
           1,
           1,
           0,
           1,
           1,
           0,
           1,
           0,
           0,
           0,
           0,
           0,
           0,
           0,
           0,
           0,
           1,
           1,
           0,
           1,
           0,
           1,
           0,
           0,
           1,
           1,
           0,
           0,
           0,
           1,
           0,
           0,
           0,
           1,
           0,
           0,
           0,
           1,
           1,
           0,
           0,
           1,
           0,
           0,
           0,
           0,
           0,
           0,
           1,
           0,
           0,
           0,
           0,
           0,
           1,
           0,
           0,
           0,
           0,
           1,
           0,
           1,
           1,
           0,
           0,
           0,
           1,
           0,
           0,
           1,
           1,
           1,
           1,
           0,
           1,
           1,
           1,
           1,
           0,
           0,
           1,
           1,
           0,
           1,
           0,
           0,
           1,
           1,
           0,
           0,
           1,
           1
          ],
          "coloraxis": "coloraxis",
          "symbol": "circle"
         },
         "mode": "markers",
         "name": "",
         "scene": "scene",
         "showlegend": false,
         "type": "scatter3d",
         "x": [
          -233.18297346234462,
          188.82016097592452,
          -857.1833622097756,
          -357.19551770352507,
          -825.2103718383852,
          1436.8353706334099,
          -657.212085663259,
          886.7966449968867,
          -786.171346374921,
          1453.7904517475718,
          756.7883705271752,
          2610.7793046433053,
          -1050.1764317038599,
          -101.24609020167665,
          -682.2351611775789,
          -853.1861677423727,
          -377.2023152248099,
          -993.1989699333525,
          -596.1939178057886,
          -709.1733196707166,
          -369.1845487592336,
          -815.2331167347784,
          -963.2501245732615,
          -1000.2100620789417,
          1365.7708158988232,
          2483.7850339970355,
          -990.182284962036,
          -337.1839359944693,
          -829.2259589285237,
          -836.1822835581632,
          -900.2256425980305,
          -463.20434594482117,
          1044.813741846775,
          489.8036085531251,
          -384.21449553762693,
          -549.1944677335056,
          -878.2340691827105,
          -963.1808860703809,
          983.7942290924531,
          4.775727780460134,
          -143.18846012689363,
          2278.7988601378265,
          -356.1749493227788,
          -337.20748510439023,
          -1108.2001022131233,
          -547.1872734133251,
          1842.7850344383367,
          -786.16452807363,
          -66.2424035079918,
          -907.1980522753968,
          -985.1776827839619,
          2160.7477568697363,
          -918.2134573133242,
          -931.2415663938981,
          284.8186207213021,
          -924.1867015126842,
          -839.1974708293252,
          -558.1739827557403,
          -781.2260695563011,
          -377.2245493358221,
          -907.1868772088816,
          -1081.1979569721286,
          -211.2083542821992,
          257.8059410055845,
          1059.810508661052,
          -523.2117478779196,
          -645.1965583205281,
          1486.7706526112297,
          -602.232071586557,
          884.8108251917173,
          -905.2113082715679,
          -784.2315709992874,
          -585.2047604428789,
          -522.1740039455134,
          -181.21227349173284,
          -540.2400635236341,
          1726.78508802796,
          -277.20561659638105,
          374.77788370899543,
          1808.8086815786855,
          -94.19597615143263,
          -986.1919541159214,
          -33.200425287231916,
          -254.22705361678263,
          2404.7889978655553,
          2540.8101319799152,
          -264.228190515914,
          553.7407311242758,
          2698.8002634882455,
          2295.7992283621184,
          -579.2619157808722,
          1461.7612921588213,
          -657.2037384217729,
          -879.1978568638154,
          -949.2252311022047,
          2563.8048871903725,
          -328.23510032600973,
          -666.2440157516207,
          1045.8064088388348,
          -501.1834685362241
         ],
         "y": [
          25.227012636987173,
          189.2216686559503,
          -29.774967140535523,
          -29.753955179746853,
          25.267663866760433,
          -29.794796539400945,
          -29.731780525243973,
          -29.74517477767019,
          -28.79434483067314,
          50.26278736405643,
          150.26749038911768,
          -21.719040438203702,
          -29.78500072713022,
          -29.68683239289406,
          -29.701387470561794,
          -11.76948775210148,
          -29.745246145618403,
          -29.747455728095233,
          -29.759011395097772,
          19.212433992226654,
          -29.77502444611196,
          -29.702708009476506,
          -29.679383994793756,
          -26.737559606335925,
          -20.706058558757714,
          29.27113177764607,
          -29.777673853530743,
          -28.776188689881415,
          -29.709918406380574,
          -15.773496682718866,
          -29.71354546458561,
          -29.742580850176815,
          -29.76926106238029,
          -29.75617428615431,
          -18.726805478986716,
          -16.759442136062027,
          19.299023157244736,
          -9.7778806947902,
          -12.744055082012833,
          -22.717832521456153,
          -29.767652667483254,
          -29.743388847417116,
          -19.7823300783805,
          -26.74003810562392,
          -29.751878900955322,
          -27.769813738373617,
          -22.7282025441912,
          -25.802932450834337,
          2.3078475554207674,
          79.2437767583011,
          -15.782711912742252,
          -29.67277939406177,
          -29.73357355249127,
          -29.693168322666565,
          -29.77707127766952,
          -29.768089112671586,
          -29.753806935203286,
          -29.785406247690517,
          405.28693916192054,
          -29.71484091635853,
          -29.770381485341083,
          -29.75508983604836,
          -0.7373141978194403,
          -6.754861525588045,
          221.24002955126977,
          -29.735334296557614,
          -29.751586222334787,
          3.2907198524605734,
          -29.704088435463966,
          -22.765078970950693,
          -29.734239738389405,
          -11.70211343626776,
          -1.7413552162166284,
          -29.789398515350097,
          5.268155174578333,
          -19.695316716453096,
          52.27715269038552,
          10.25676042043257,
          -5.7200523902086795,
          -29.761014522835602,
          -29.75660895608104,
          -29.762233748773603,
          63.250354300963224,
          -29.711342326418297,
          -27.733490424773567,
          -29.76064926555328,
          -26.710997961308347,
          -10.663127911716343,
          -15.74740732692148,
          -27.748076297430615,
          -2.6604821041856797,
          -29.692362119969076,
          82.25643209328031,
          -29.74947306811646,
          -29.717036152857315,
          -8.756191069199037,
          -2.7020710418949903,
          -28.68925003358547,
          -22.75724037481014,
          -29.773932280507477
         ],
         "z": [
          18.026886321162056,
          20.692598370388904,
          18.803750254650193,
          11.036218242908946,
          1.790383705097511,
          30.309655697957194,
          -0.5161416355524729,
          3.2002105474969342,
          26.71380129731282,
          -1.4755481267232298,
          -1.2148708977080316,
          -9.422651983071647,
          22.13575817584327,
          -23.328691226413426,
          -15.43965450466242,
          16.84008324731787,
          6.995067883950493,
          9.924292944462897,
          12.348822118171318,
          25.709912163264224,
          17.082238030881975,
          -14.25295320346267,
          -24.088877799153554,
          1.9756649695419624,
          -12.62120371309627,
          -6.07313412326382,
          19.029374158113278,
          17.071088813826258,
          -8.338222146602984,
          18.823737593163887,
          -9.095294123768657,
          5.19105336620601,
          13.968554389303469,
          7.80303393354663,
          -1.9039535313452025,
          10.408827589889142,
          -14.108733326273764,
          19.052211886324255,
          2.083344050883011,
          -8.513455579031405,
          14.735032262777448,
          5.064315292931776,
          24.999869733194362,
          2.039569178359788,
          8.15456388235232,
          14.405481137141825,
          -5.259055790462211,
          30.738914046715237,
          -21.305825496760704,
          7.216471271187393,
          23.028895461682826,
          -28.788332857941644,
          -1.1049750845836468,
          -20.036493114275604,
          19.1112141785742,
          16.88953756815155,
          9.74575083391626,
          25.378020443030795,
          -9.331975126677506,
          -8.98479076417203,
          15.941387169349634,
          9.180292885852511,
          1.9306283012495917,
          12.115439078384213,
          14.37839392894751,
          0.2380569113950812,
          10.510896105757503,
          -14.61108382758687,
          -12.657757385667704,
          12.230469527943892,
          -0.12438384091650166,
          -13.243549676386678,
          5.41655009577576,
          24.304604244067043,
          -2.045755051379647,
          -18.671541774521696,
          -2.0548108209939957,
          3.043606212031708,
          -8.961419111773193,
          10.784153576230766,
          8.690785949260187,
          13.9372632116589,
          5.7883838204610525,
          -10.211150948063585,
          -3.07857121239968,
          11.63017671311996,
          -12.081354825642979,
          -31.354201590423397,
          4.465888669282697,
          4.056839539383988,
          -31.60638841814141,
          -19.695803196006874,
          5.741479252776108,
          10.792325807428012,
          -9.019251452363651,
          7.688268906421409,
          -15.925459546464134,
          -21.488278529740054,
          9.94272974105069,
          17.316875326545407
         ]
        }
       ],
       "layout": {
        "coloraxis": {
         "colorbar": {
          "title": {
           "text": "Satisfaction"
          }
         },
         "colorscale": [
          [
           0,
           "#0d0887"
          ],
          [
           0.1111111111111111,
           "#46039f"
          ],
          [
           0.2222222222222222,
           "#7201a8"
          ],
          [
           0.3333333333333333,
           "#9c179e"
          ],
          [
           0.4444444444444444,
           "#bd3786"
          ],
          [
           0.5555555555555556,
           "#d8576b"
          ],
          [
           0.6666666666666666,
           "#ed7953"
          ],
          [
           0.7777777777777778,
           "#fb9f3a"
          ],
          [
           0.8888888888888888,
           "#fdca26"
          ],
          [
           1,
           "#f0f921"
          ]
         ]
        },
        "legend": {
         "tracegroupgap": 0
        },
        "scene": {
         "domain": {
          "x": [
           0,
           1
          ],
          "y": [
           0,
           1
          ]
         },
         "xaxis": {
          "title": {
           "text": "PC1"
          }
         },
         "yaxis": {
          "title": {
           "text": "PC2"
          }
         },
         "zaxis": {
          "title": {
           "text": "PC3"
          }
         }
        },
        "template": {
         "data": {
          "bar": [
           {
            "error_x": {
             "color": "#2a3f5f"
            },
            "error_y": {
             "color": "#2a3f5f"
            },
            "marker": {
             "line": {
              "color": "#E5ECF6",
              "width": 0.5
             },
             "pattern": {
              "fillmode": "overlay",
              "size": 10,
              "solidity": 0.2
             }
            },
            "type": "bar"
           }
          ],
          "barpolar": [
           {
            "marker": {
             "line": {
              "color": "#E5ECF6",
              "width": 0.5
             },
             "pattern": {
              "fillmode": "overlay",
              "size": 10,
              "solidity": 0.2
             }
            },
            "type": "barpolar"
           }
          ],
          "carpet": [
           {
            "aaxis": {
             "endlinecolor": "#2a3f5f",
             "gridcolor": "white",
             "linecolor": "white",
             "minorgridcolor": "white",
             "startlinecolor": "#2a3f5f"
            },
            "baxis": {
             "endlinecolor": "#2a3f5f",
             "gridcolor": "white",
             "linecolor": "white",
             "minorgridcolor": "white",
             "startlinecolor": "#2a3f5f"
            },
            "type": "carpet"
           }
          ],
          "choropleth": [
           {
            "colorbar": {
             "outlinewidth": 0,
             "ticks": ""
            },
            "type": "choropleth"
           }
          ],
          "contour": [
           {
            "colorbar": {
             "outlinewidth": 0,
             "ticks": ""
            },
            "colorscale": [
             [
              0,
              "#0d0887"
             ],
             [
              0.1111111111111111,
              "#46039f"
             ],
             [
              0.2222222222222222,
              "#7201a8"
             ],
             [
              0.3333333333333333,
              "#9c179e"
             ],
             [
              0.4444444444444444,
              "#bd3786"
             ],
             [
              0.5555555555555556,
              "#d8576b"
             ],
             [
              0.6666666666666666,
              "#ed7953"
             ],
             [
              0.7777777777777778,
              "#fb9f3a"
             ],
             [
              0.8888888888888888,
              "#fdca26"
             ],
             [
              1,
              "#f0f921"
             ]
            ],
            "type": "contour"
           }
          ],
          "contourcarpet": [
           {
            "colorbar": {
             "outlinewidth": 0,
             "ticks": ""
            },
            "type": "contourcarpet"
           }
          ],
          "heatmap": [
           {
            "colorbar": {
             "outlinewidth": 0,
             "ticks": ""
            },
            "colorscale": [
             [
              0,
              "#0d0887"
             ],
             [
              0.1111111111111111,
              "#46039f"
             ],
             [
              0.2222222222222222,
              "#7201a8"
             ],
             [
              0.3333333333333333,
              "#9c179e"
             ],
             [
              0.4444444444444444,
              "#bd3786"
             ],
             [
              0.5555555555555556,
              "#d8576b"
             ],
             [
              0.6666666666666666,
              "#ed7953"
             ],
             [
              0.7777777777777778,
              "#fb9f3a"
             ],
             [
              0.8888888888888888,
              "#fdca26"
             ],
             [
              1,
              "#f0f921"
             ]
            ],
            "type": "heatmap"
           }
          ],
          "heatmapgl": [
           {
            "colorbar": {
             "outlinewidth": 0,
             "ticks": ""
            },
            "colorscale": [
             [
              0,
              "#0d0887"
             ],
             [
              0.1111111111111111,
              "#46039f"
             ],
             [
              0.2222222222222222,
              "#7201a8"
             ],
             [
              0.3333333333333333,
              "#9c179e"
             ],
             [
              0.4444444444444444,
              "#bd3786"
             ],
             [
              0.5555555555555556,
              "#d8576b"
             ],
             [
              0.6666666666666666,
              "#ed7953"
             ],
             [
              0.7777777777777778,
              "#fb9f3a"
             ],
             [
              0.8888888888888888,
              "#fdca26"
             ],
             [
              1,
              "#f0f921"
             ]
            ],
            "type": "heatmapgl"
           }
          ],
          "histogram": [
           {
            "marker": {
             "pattern": {
              "fillmode": "overlay",
              "size": 10,
              "solidity": 0.2
             }
            },
            "type": "histogram"
           }
          ],
          "histogram2d": [
           {
            "colorbar": {
             "outlinewidth": 0,
             "ticks": ""
            },
            "colorscale": [
             [
              0,
              "#0d0887"
             ],
             [
              0.1111111111111111,
              "#46039f"
             ],
             [
              0.2222222222222222,
              "#7201a8"
             ],
             [
              0.3333333333333333,
              "#9c179e"
             ],
             [
              0.4444444444444444,
              "#bd3786"
             ],
             [
              0.5555555555555556,
              "#d8576b"
             ],
             [
              0.6666666666666666,
              "#ed7953"
             ],
             [
              0.7777777777777778,
              "#fb9f3a"
             ],
             [
              0.8888888888888888,
              "#fdca26"
             ],
             [
              1,
              "#f0f921"
             ]
            ],
            "type": "histogram2d"
           }
          ],
          "histogram2dcontour": [
           {
            "colorbar": {
             "outlinewidth": 0,
             "ticks": ""
            },
            "colorscale": [
             [
              0,
              "#0d0887"
             ],
             [
              0.1111111111111111,
              "#46039f"
             ],
             [
              0.2222222222222222,
              "#7201a8"
             ],
             [
              0.3333333333333333,
              "#9c179e"
             ],
             [
              0.4444444444444444,
              "#bd3786"
             ],
             [
              0.5555555555555556,
              "#d8576b"
             ],
             [
              0.6666666666666666,
              "#ed7953"
             ],
             [
              0.7777777777777778,
              "#fb9f3a"
             ],
             [
              0.8888888888888888,
              "#fdca26"
             ],
             [
              1,
              "#f0f921"
             ]
            ],
            "type": "histogram2dcontour"
           }
          ],
          "mesh3d": [
           {
            "colorbar": {
             "outlinewidth": 0,
             "ticks": ""
            },
            "type": "mesh3d"
           }
          ],
          "parcoords": [
           {
            "line": {
             "colorbar": {
              "outlinewidth": 0,
              "ticks": ""
             }
            },
            "type": "parcoords"
           }
          ],
          "pie": [
           {
            "automargin": true,
            "type": "pie"
           }
          ],
          "scatter": [
           {
            "fillpattern": {
             "fillmode": "overlay",
             "size": 10,
             "solidity": 0.2
            },
            "type": "scatter"
           }
          ],
          "scatter3d": [
           {
            "line": {
             "colorbar": {
              "outlinewidth": 0,
              "ticks": ""
             }
            },
            "marker": {
             "colorbar": {
              "outlinewidth": 0,
              "ticks": ""
             }
            },
            "type": "scatter3d"
           }
          ],
          "scattercarpet": [
           {
            "marker": {
             "colorbar": {
              "outlinewidth": 0,
              "ticks": ""
             }
            },
            "type": "scattercarpet"
           }
          ],
          "scattergeo": [
           {
            "marker": {
             "colorbar": {
              "outlinewidth": 0,
              "ticks": ""
             }
            },
            "type": "scattergeo"
           }
          ],
          "scattergl": [
           {
            "marker": {
             "colorbar": {
              "outlinewidth": 0,
              "ticks": ""
             }
            },
            "type": "scattergl"
           }
          ],
          "scattermapbox": [
           {
            "marker": {
             "colorbar": {
              "outlinewidth": 0,
              "ticks": ""
             }
            },
            "type": "scattermapbox"
           }
          ],
          "scatterpolar": [
           {
            "marker": {
             "colorbar": {
              "outlinewidth": 0,
              "ticks": ""
             }
            },
            "type": "scatterpolar"
           }
          ],
          "scatterpolargl": [
           {
            "marker": {
             "colorbar": {
              "outlinewidth": 0,
              "ticks": ""
             }
            },
            "type": "scatterpolargl"
           }
          ],
          "scatterternary": [
           {
            "marker": {
             "colorbar": {
              "outlinewidth": 0,
              "ticks": ""
             }
            },
            "type": "scatterternary"
           }
          ],
          "surface": [
           {
            "colorbar": {
             "outlinewidth": 0,
             "ticks": ""
            },
            "colorscale": [
             [
              0,
              "#0d0887"
             ],
             [
              0.1111111111111111,
              "#46039f"
             ],
             [
              0.2222222222222222,
              "#7201a8"
             ],
             [
              0.3333333333333333,
              "#9c179e"
             ],
             [
              0.4444444444444444,
              "#bd3786"
             ],
             [
              0.5555555555555556,
              "#d8576b"
             ],
             [
              0.6666666666666666,
              "#ed7953"
             ],
             [
              0.7777777777777778,
              "#fb9f3a"
             ],
             [
              0.8888888888888888,
              "#fdca26"
             ],
             [
              1,
              "#f0f921"
             ]
            ],
            "type": "surface"
           }
          ],
          "table": [
           {
            "cells": {
             "fill": {
              "color": "#EBF0F8"
             },
             "line": {
              "color": "white"
             }
            },
            "header": {
             "fill": {
              "color": "#C8D4E3"
             },
             "line": {
              "color": "white"
             }
            },
            "type": "table"
           }
          ]
         },
         "layout": {
          "annotationdefaults": {
           "arrowcolor": "#2a3f5f",
           "arrowhead": 0,
           "arrowwidth": 1
          },
          "autotypenumbers": "strict",
          "coloraxis": {
           "colorbar": {
            "outlinewidth": 0,
            "ticks": ""
           }
          },
          "colorscale": {
           "diverging": [
            [
             0,
             "#8e0152"
            ],
            [
             0.1,
             "#c51b7d"
            ],
            [
             0.2,
             "#de77ae"
            ],
            [
             0.3,
             "#f1b6da"
            ],
            [
             0.4,
             "#fde0ef"
            ],
            [
             0.5,
             "#f7f7f7"
            ],
            [
             0.6,
             "#e6f5d0"
            ],
            [
             0.7,
             "#b8e186"
            ],
            [
             0.8,
             "#7fbc41"
            ],
            [
             0.9,
             "#4d9221"
            ],
            [
             1,
             "#276419"
            ]
           ],
           "sequential": [
            [
             0,
             "#0d0887"
            ],
            [
             0.1111111111111111,
             "#46039f"
            ],
            [
             0.2222222222222222,
             "#7201a8"
            ],
            [
             0.3333333333333333,
             "#9c179e"
            ],
            [
             0.4444444444444444,
             "#bd3786"
            ],
            [
             0.5555555555555556,
             "#d8576b"
            ],
            [
             0.6666666666666666,
             "#ed7953"
            ],
            [
             0.7777777777777778,
             "#fb9f3a"
            ],
            [
             0.8888888888888888,
             "#fdca26"
            ],
            [
             1,
             "#f0f921"
            ]
           ],
           "sequentialminus": [
            [
             0,
             "#0d0887"
            ],
            [
             0.1111111111111111,
             "#46039f"
            ],
            [
             0.2222222222222222,
             "#7201a8"
            ],
            [
             0.3333333333333333,
             "#9c179e"
            ],
            [
             0.4444444444444444,
             "#bd3786"
            ],
            [
             0.5555555555555556,
             "#d8576b"
            ],
            [
             0.6666666666666666,
             "#ed7953"
            ],
            [
             0.7777777777777778,
             "#fb9f3a"
            ],
            [
             0.8888888888888888,
             "#fdca26"
            ],
            [
             1,
             "#f0f921"
            ]
           ]
          },
          "colorway": [
           "#636efa",
           "#EF553B",
           "#00cc96",
           "#ab63fa",
           "#FFA15A",
           "#19d3f3",
           "#FF6692",
           "#B6E880",
           "#FF97FF",
           "#FECB52"
          ],
          "font": {
           "color": "#2a3f5f"
          },
          "geo": {
           "bgcolor": "white",
           "lakecolor": "white",
           "landcolor": "#E5ECF6",
           "showlakes": true,
           "showland": true,
           "subunitcolor": "white"
          },
          "hoverlabel": {
           "align": "left"
          },
          "hovermode": "closest",
          "mapbox": {
           "style": "light"
          },
          "paper_bgcolor": "white",
          "plot_bgcolor": "#E5ECF6",
          "polar": {
           "angularaxis": {
            "gridcolor": "white",
            "linecolor": "white",
            "ticks": ""
           },
           "bgcolor": "#E5ECF6",
           "radialaxis": {
            "gridcolor": "white",
            "linecolor": "white",
            "ticks": ""
           }
          },
          "scene": {
           "xaxis": {
            "backgroundcolor": "#E5ECF6",
            "gridcolor": "white",
            "gridwidth": 2,
            "linecolor": "white",
            "showbackground": true,
            "ticks": "",
            "zerolinecolor": "white"
           },
           "yaxis": {
            "backgroundcolor": "#E5ECF6",
            "gridcolor": "white",
            "gridwidth": 2,
            "linecolor": "white",
            "showbackground": true,
            "ticks": "",
            "zerolinecolor": "white"
           },
           "zaxis": {
            "backgroundcolor": "#E5ECF6",
            "gridcolor": "white",
            "gridwidth": 2,
            "linecolor": "white",
            "showbackground": true,
            "ticks": "",
            "zerolinecolor": "white"
           }
          },
          "shapedefaults": {
           "line": {
            "color": "#2a3f5f"
           }
          },
          "ternary": {
           "aaxis": {
            "gridcolor": "white",
            "linecolor": "white",
            "ticks": ""
           },
           "baxis": {
            "gridcolor": "white",
            "linecolor": "white",
            "ticks": ""
           },
           "bgcolor": "#E5ECF6",
           "caxis": {
            "gridcolor": "white",
            "linecolor": "white",
            "ticks": ""
           }
          },
          "title": {
           "x": 0.05
          },
          "xaxis": {
           "automargin": true,
           "gridcolor": "white",
           "linecolor": "white",
           "ticks": "",
           "title": {
            "standoff": 15
           },
           "zerolinecolor": "white",
           "zerolinewidth": 2
          },
          "yaxis": {
           "automargin": true,
           "gridcolor": "white",
           "linecolor": "white",
           "ticks": "",
           "title": {
            "standoff": 15
           },
           "zerolinecolor": "white",
           "zerolinewidth": 2
          }
         }
        },
        "title": {
         "text": "Graphique 3D interactif avec réduction de dimensionnalité (échantillon de 100 points)"
        }
       }
      }
     },
     "metadata": {},
     "output_type": "display_data"
    }
   ],
   "source": [
    "import pandas as pd\n",
    "import plotly.express as px\n",
    "data = pd.read_csv(\"Airline_Dataset.csv\")\n",
    "\n",
    "data = data.rename(columns={\n",
    "    'Gender': 'Gender',\n",
    "    'Customer Type': 'Customer_Type',\n",
    "    'Type of Travel': 'Type_of_Travel',\n",
    "    'Class': 'Class',\n",
    "    'Satisfaction': 'Satisfaction',\n",
    "    'id': 'ID',\n",
    "    'Age': 'Age',\n",
    "    'Flight Distance': 'Flight_Distance',\n",
    "    'Departure/Arrival time convenient': 'Departure_Arrival_time_convenient',\n",
    "    'Ease of Online booking': 'Ease_of_Online_booking',\n",
    "    'Gate location': 'Gate_location',\n",
    "    'Departure Delay in Minutes': 'Departure_Delay_in_Minutes',\n",
    "    'Arrival Delay in Minutes': 'Arrival_Delay_in_Minutes',\n",
    "    'Inflight wifi service': 'Inflight_wifi_service',\n",
    "    'Food and drink': 'Food_and_drink',\n",
    "    'Online boarding': 'Online_boarding',\n",
    "    'Seat comfort': 'Seat_comfort',\n",
    "    'Inflight entertainment': 'Inflight_entertainment',\n",
    "    'On-board service': 'On_board_service',\n",
    "    'Leg room service': 'Leg_room_service',\n",
    "    'Baggage handling': 'Baggage_handling',\n",
    "    'Checkin service': 'Checkin_service',\n",
    "    'Inflight service': 'Inflight_service',\n",
    "    'Cleanliness': 'Cleanliness'\n",
    "\n",
    "})\n",
    "\n",
    "data = data.dropna()\n",
    "\n",
    "\n",
    "data['Total_Delay'] = data['Departure_Delay_in_Minutes'] + data['Arrival_Delay_in_Minutes']\n",
    "data=data.drop(['Departure_Delay_in_Minutes'], axis=1)\n",
    "data=data.drop(['Arrival_Delay_in_Minutes'], axis=1)\n",
    "\n",
    "data['Satisfaction'] = data['Satisfaction'].map({'neutral or dissatisfied': 0, 'satisfied': 1})\n",
    "\n",
    "groundT =data['Satisfaction']\n",
    "data=data.drop(['ID'], axis=1)\n",
    "\n",
    "data = pd.get_dummies(data, columns=['Gender', 'Customer_Type', 'Type_of_Travel', 'Class'])\n",
    "\n",
    "import pandas as pd\n",
    "import plotly.express as px\n",
    "from sklearn.decomposition import PCA\n",
    "\n",
    "\n",
    "pca = PCA(n_components=3)\n",
    "data_3d = pca.fit_transform(data.drop('Satisfaction', axis=1))  \n",
    "data_3d_df = pd.DataFrame(data_3d, columns=['PC1', 'PC2', 'PC3'])\n",
    "data_sampled = data_3d_df.sample(n=100)\n",
    "\n",
    "data_sampled['Satisfaction'] = data['Satisfaction'].iloc[data_sampled.index].values\n",
    "\n",
    "fig = px.scatter_3d(data_sampled, x='PC1', y='PC2', z='PC3', color='Satisfaction',\n",
    "                    title='Graphique 3D interactif avec réduction de dimensionnalité (échantillon de 100 points)')\n",
    "\n",
    "fig.show()\n"
   ]
  },
  {
   "cell_type": "code",
   "execution_count": 14,
   "metadata": {},
   "outputs": [
    {
     "data": {
      "application/vnd.plotly.v1+json": {
       "config": {
        "plotlyServerURL": "https://plot.ly"
       },
       "data": [
        {
         "marker": {
          "color": [
           1,
           0,
           0,
           0,
           0,
           0,
           1,
           1,
           1,
           1,
           0,
           1,
           1,
           0,
           1,
           0,
           0,
           0,
           0,
           0,
           0,
           0,
           0,
           0,
           1,
           1,
           0,
           1,
           0,
           1,
           0,
           0,
           1,
           1,
           0,
           0,
           0,
           1,
           0,
           0,
           0,
           1,
           0,
           0,
           0,
           1,
           1,
           0,
           0,
           1,
           0,
           0,
           0,
           0,
           0,
           0,
           1,
           0,
           0,
           0,
           0,
           0,
           1,
           0,
           0,
           0,
           0,
           1,
           0,
           1,
           1,
           0,
           0,
           0,
           1,
           0,
           0,
           1,
           1,
           1,
           1,
           0,
           1,
           1,
           1,
           1,
           0,
           0,
           1,
           1,
           0,
           1,
           0,
           0,
           1,
           1,
           0,
           0,
           1,
           1
          ],
          "colorscale": [
           [
            0,
            "#440154"
           ],
           [
            0.1111111111111111,
            "#482878"
           ],
           [
            0.2222222222222222,
            "#3e4989"
           ],
           [
            0.3333333333333333,
            "#31688e"
           ],
           [
            0.4444444444444444,
            "#26828e"
           ],
           [
            0.5555555555555556,
            "#1f9e89"
           ],
           [
            0.6666666666666666,
            "#35b779"
           ],
           [
            0.7777777777777778,
            "#6ece58"
           ],
           [
            0.8888888888888888,
            "#b5de2b"
           ],
           [
            1,
            "#fde725"
           ]
          ],
          "opacity": 0.5,
          "size": 5
         },
         "mode": "markers",
         "type": "scatter3d",
         "x": [
          -233.18297346234462,
          188.82016097592452,
          -857.1833622097756,
          -357.19551770352507,
          -825.2103718383852,
          1436.8353706334099,
          -657.212085663259,
          886.7966449968867,
          -786.171346374921,
          1453.7904517475718,
          756.7883705271752,
          2610.7793046433053,
          -1050.1764317038599,
          -101.24609020167665,
          -682.2351611775789,
          -853.1861677423727,
          -377.2023152248099,
          -993.1989699333525,
          -596.1939178057886,
          -709.1733196707166,
          -369.1845487592336,
          -815.2331167347784,
          -963.2501245732615,
          -1000.2100620789417,
          1365.7708158988232,
          2483.7850339970355,
          -990.182284962036,
          -337.1839359944693,
          -829.2259589285237,
          -836.1822835581632,
          -900.2256425980305,
          -463.20434594482117,
          1044.813741846775,
          489.8036085531251,
          -384.21449553762693,
          -549.1944677335056,
          -878.2340691827105,
          -963.1808860703809,
          983.7942290924531,
          4.775727780460134,
          -143.18846012689363,
          2278.7988601378265,
          -356.1749493227788,
          -337.20748510439023,
          -1108.2001022131233,
          -547.1872734133251,
          1842.7850344383367,
          -786.16452807363,
          -66.2424035079918,
          -907.1980522753968,
          -985.1776827839619,
          2160.7477568697363,
          -918.2134573133242,
          -931.2415663938981,
          284.8186207213021,
          -924.1867015126842,
          -839.1974708293252,
          -558.1739827557403,
          -781.2260695563011,
          -377.2245493358221,
          -907.1868772088816,
          -1081.1979569721286,
          -211.2083542821992,
          257.8059410055845,
          1059.810508661052,
          -523.2117478779196,
          -645.1965583205281,
          1486.7706526112297,
          -602.232071586557,
          884.8108251917173,
          -905.2113082715679,
          -784.2315709992874,
          -585.2047604428789,
          -522.1740039455134,
          -181.21227349173284,
          -540.2400635236341,
          1726.78508802796,
          -277.20561659638105,
          374.77788370899543,
          1808.8086815786855,
          -94.19597615143263,
          -986.1919541159214,
          -33.200425287231916,
          -254.22705361678263,
          2404.7889978655553,
          2540.8101319799152,
          -264.228190515914,
          553.7407311242758,
          2698.8002634882455,
          2295.7992283621184,
          -579.2619157808722,
          1461.7612921588213,
          -657.2037384217729,
          -879.1978568638154,
          -949.2252311022047,
          2563.8048871903725,
          -328.23510032600973,
          -666.2440157516207,
          1045.8064088388348,
          -501.1834685362241
         ],
         "y": [
          25.227012636987173,
          189.2216686559503,
          -29.774967140535523,
          -29.753955179746853,
          25.267663866760433,
          -29.794796539400945,
          -29.731780525243973,
          -29.74517477767019,
          -28.79434483067314,
          50.26278736405643,
          150.26749038911768,
          -21.719040438203702,
          -29.78500072713022,
          -29.68683239289406,
          -29.701387470561794,
          -11.76948775210148,
          -29.745246145618403,
          -29.747455728095233,
          -29.759011395097772,
          19.212433992226654,
          -29.77502444611196,
          -29.702708009476506,
          -29.679383994793756,
          -26.737559606335925,
          -20.706058558757714,
          29.27113177764607,
          -29.777673853530743,
          -28.776188689881415,
          -29.709918406380574,
          -15.773496682718866,
          -29.71354546458561,
          -29.742580850176815,
          -29.76926106238029,
          -29.75617428615431,
          -18.726805478986716,
          -16.759442136062027,
          19.299023157244736,
          -9.7778806947902,
          -12.744055082012833,
          -22.717832521456153,
          -29.767652667483254,
          -29.743388847417116,
          -19.7823300783805,
          -26.74003810562392,
          -29.751878900955322,
          -27.769813738373617,
          -22.7282025441912,
          -25.802932450834337,
          2.3078475554207674,
          79.2437767583011,
          -15.782711912742252,
          -29.67277939406177,
          -29.73357355249127,
          -29.693168322666565,
          -29.77707127766952,
          -29.768089112671586,
          -29.753806935203286,
          -29.785406247690517,
          405.28693916192054,
          -29.71484091635853,
          -29.770381485341083,
          -29.75508983604836,
          -0.7373141978194403,
          -6.754861525588045,
          221.24002955126977,
          -29.735334296557614,
          -29.751586222334787,
          3.2907198524605734,
          -29.704088435463966,
          -22.765078970950693,
          -29.734239738389405,
          -11.70211343626776,
          -1.7413552162166284,
          -29.789398515350097,
          5.268155174578333,
          -19.695316716453096,
          52.27715269038552,
          10.25676042043257,
          -5.7200523902086795,
          -29.761014522835602,
          -29.75660895608104,
          -29.762233748773603,
          63.250354300963224,
          -29.711342326418297,
          -27.733490424773567,
          -29.76064926555328,
          -26.710997961308347,
          -10.663127911716343,
          -15.74740732692148,
          -27.748076297430615,
          -2.6604821041856797,
          -29.692362119969076,
          82.25643209328031,
          -29.74947306811646,
          -29.717036152857315,
          -8.756191069199037,
          -2.7020710418949903,
          -28.68925003358547,
          -22.75724037481014,
          -29.773932280507477
         ],
         "z": [
          18.026886321162056,
          20.692598370388904,
          18.803750254650193,
          11.036218242908946,
          1.790383705097511,
          30.309655697957194,
          -0.5161416355524729,
          3.2002105474969342,
          26.71380129731282,
          -1.4755481267232298,
          -1.2148708977080316,
          -9.422651983071647,
          22.13575817584327,
          -23.328691226413426,
          -15.43965450466242,
          16.84008324731787,
          6.995067883950493,
          9.924292944462897,
          12.348822118171318,
          25.709912163264224,
          17.082238030881975,
          -14.25295320346267,
          -24.088877799153554,
          1.9756649695419624,
          -12.62120371309627,
          -6.07313412326382,
          19.029374158113278,
          17.071088813826258,
          -8.338222146602984,
          18.823737593163887,
          -9.095294123768657,
          5.19105336620601,
          13.968554389303469,
          7.80303393354663,
          -1.9039535313452025,
          10.408827589889142,
          -14.108733326273764,
          19.052211886324255,
          2.083344050883011,
          -8.513455579031405,
          14.735032262777448,
          5.064315292931776,
          24.999869733194362,
          2.039569178359788,
          8.15456388235232,
          14.405481137141825,
          -5.259055790462211,
          30.738914046715237,
          -21.305825496760704,
          7.216471271187393,
          23.028895461682826,
          -28.788332857941644,
          -1.1049750845836468,
          -20.036493114275604,
          19.1112141785742,
          16.88953756815155,
          9.74575083391626,
          25.378020443030795,
          -9.331975126677506,
          -8.98479076417203,
          15.941387169349634,
          9.180292885852511,
          1.9306283012495917,
          12.115439078384213,
          14.37839392894751,
          0.2380569113950812,
          10.510896105757503,
          -14.61108382758687,
          -12.657757385667704,
          12.230469527943892,
          -0.12438384091650166,
          -13.243549676386678,
          5.41655009577576,
          24.304604244067043,
          -2.045755051379647,
          -18.671541774521696,
          -2.0548108209939957,
          3.043606212031708,
          -8.961419111773193,
          10.784153576230766,
          8.690785949260187,
          13.9372632116589,
          5.7883838204610525,
          -10.211150948063585,
          -3.07857121239968,
          11.63017671311996,
          -12.081354825642979,
          -31.354201590423397,
          4.465888669282697,
          4.056839539383988,
          -31.60638841814141,
          -19.695803196006874,
          5.741479252776108,
          10.792325807428012,
          -9.019251452363651,
          7.688268906421409,
          -15.925459546464134,
          -21.488278529740054,
          9.94272974105069,
          17.316875326545407
         ]
        }
       ],
       "layout": {
        "scene": {
         "xaxis": {
          "title": {
           "text": "PC1"
          }
         },
         "yaxis": {
          "title": {
           "text": "PC2"
          }
         },
         "zaxis": {
          "title": {
           "text": "PC3"
          }
         }
        },
        "template": {
         "data": {
          "bar": [
           {
            "error_x": {
             "color": "#2a3f5f"
            },
            "error_y": {
             "color": "#2a3f5f"
            },
            "marker": {
             "line": {
              "color": "#E5ECF6",
              "width": 0.5
             },
             "pattern": {
              "fillmode": "overlay",
              "size": 10,
              "solidity": 0.2
             }
            },
            "type": "bar"
           }
          ],
          "barpolar": [
           {
            "marker": {
             "line": {
              "color": "#E5ECF6",
              "width": 0.5
             },
             "pattern": {
              "fillmode": "overlay",
              "size": 10,
              "solidity": 0.2
             }
            },
            "type": "barpolar"
           }
          ],
          "carpet": [
           {
            "aaxis": {
             "endlinecolor": "#2a3f5f",
             "gridcolor": "white",
             "linecolor": "white",
             "minorgridcolor": "white",
             "startlinecolor": "#2a3f5f"
            },
            "baxis": {
             "endlinecolor": "#2a3f5f",
             "gridcolor": "white",
             "linecolor": "white",
             "minorgridcolor": "white",
             "startlinecolor": "#2a3f5f"
            },
            "type": "carpet"
           }
          ],
          "choropleth": [
           {
            "colorbar": {
             "outlinewidth": 0,
             "ticks": ""
            },
            "type": "choropleth"
           }
          ],
          "contour": [
           {
            "colorbar": {
             "outlinewidth": 0,
             "ticks": ""
            },
            "colorscale": [
             [
              0,
              "#0d0887"
             ],
             [
              0.1111111111111111,
              "#46039f"
             ],
             [
              0.2222222222222222,
              "#7201a8"
             ],
             [
              0.3333333333333333,
              "#9c179e"
             ],
             [
              0.4444444444444444,
              "#bd3786"
             ],
             [
              0.5555555555555556,
              "#d8576b"
             ],
             [
              0.6666666666666666,
              "#ed7953"
             ],
             [
              0.7777777777777778,
              "#fb9f3a"
             ],
             [
              0.8888888888888888,
              "#fdca26"
             ],
             [
              1,
              "#f0f921"
             ]
            ],
            "type": "contour"
           }
          ],
          "contourcarpet": [
           {
            "colorbar": {
             "outlinewidth": 0,
             "ticks": ""
            },
            "type": "contourcarpet"
           }
          ],
          "heatmap": [
           {
            "colorbar": {
             "outlinewidth": 0,
             "ticks": ""
            },
            "colorscale": [
             [
              0,
              "#0d0887"
             ],
             [
              0.1111111111111111,
              "#46039f"
             ],
             [
              0.2222222222222222,
              "#7201a8"
             ],
             [
              0.3333333333333333,
              "#9c179e"
             ],
             [
              0.4444444444444444,
              "#bd3786"
             ],
             [
              0.5555555555555556,
              "#d8576b"
             ],
             [
              0.6666666666666666,
              "#ed7953"
             ],
             [
              0.7777777777777778,
              "#fb9f3a"
             ],
             [
              0.8888888888888888,
              "#fdca26"
             ],
             [
              1,
              "#f0f921"
             ]
            ],
            "type": "heatmap"
           }
          ],
          "heatmapgl": [
           {
            "colorbar": {
             "outlinewidth": 0,
             "ticks": ""
            },
            "colorscale": [
             [
              0,
              "#0d0887"
             ],
             [
              0.1111111111111111,
              "#46039f"
             ],
             [
              0.2222222222222222,
              "#7201a8"
             ],
             [
              0.3333333333333333,
              "#9c179e"
             ],
             [
              0.4444444444444444,
              "#bd3786"
             ],
             [
              0.5555555555555556,
              "#d8576b"
             ],
             [
              0.6666666666666666,
              "#ed7953"
             ],
             [
              0.7777777777777778,
              "#fb9f3a"
             ],
             [
              0.8888888888888888,
              "#fdca26"
             ],
             [
              1,
              "#f0f921"
             ]
            ],
            "type": "heatmapgl"
           }
          ],
          "histogram": [
           {
            "marker": {
             "pattern": {
              "fillmode": "overlay",
              "size": 10,
              "solidity": 0.2
             }
            },
            "type": "histogram"
           }
          ],
          "histogram2d": [
           {
            "colorbar": {
             "outlinewidth": 0,
             "ticks": ""
            },
            "colorscale": [
             [
              0,
              "#0d0887"
             ],
             [
              0.1111111111111111,
              "#46039f"
             ],
             [
              0.2222222222222222,
              "#7201a8"
             ],
             [
              0.3333333333333333,
              "#9c179e"
             ],
             [
              0.4444444444444444,
              "#bd3786"
             ],
             [
              0.5555555555555556,
              "#d8576b"
             ],
             [
              0.6666666666666666,
              "#ed7953"
             ],
             [
              0.7777777777777778,
              "#fb9f3a"
             ],
             [
              0.8888888888888888,
              "#fdca26"
             ],
             [
              1,
              "#f0f921"
             ]
            ],
            "type": "histogram2d"
           }
          ],
          "histogram2dcontour": [
           {
            "colorbar": {
             "outlinewidth": 0,
             "ticks": ""
            },
            "colorscale": [
             [
              0,
              "#0d0887"
             ],
             [
              0.1111111111111111,
              "#46039f"
             ],
             [
              0.2222222222222222,
              "#7201a8"
             ],
             [
              0.3333333333333333,
              "#9c179e"
             ],
             [
              0.4444444444444444,
              "#bd3786"
             ],
             [
              0.5555555555555556,
              "#d8576b"
             ],
             [
              0.6666666666666666,
              "#ed7953"
             ],
             [
              0.7777777777777778,
              "#fb9f3a"
             ],
             [
              0.8888888888888888,
              "#fdca26"
             ],
             [
              1,
              "#f0f921"
             ]
            ],
            "type": "histogram2dcontour"
           }
          ],
          "mesh3d": [
           {
            "colorbar": {
             "outlinewidth": 0,
             "ticks": ""
            },
            "type": "mesh3d"
           }
          ],
          "parcoords": [
           {
            "line": {
             "colorbar": {
              "outlinewidth": 0,
              "ticks": ""
             }
            },
            "type": "parcoords"
           }
          ],
          "pie": [
           {
            "automargin": true,
            "type": "pie"
           }
          ],
          "scatter": [
           {
            "fillpattern": {
             "fillmode": "overlay",
             "size": 10,
             "solidity": 0.2
            },
            "type": "scatter"
           }
          ],
          "scatter3d": [
           {
            "line": {
             "colorbar": {
              "outlinewidth": 0,
              "ticks": ""
             }
            },
            "marker": {
             "colorbar": {
              "outlinewidth": 0,
              "ticks": ""
             }
            },
            "type": "scatter3d"
           }
          ],
          "scattercarpet": [
           {
            "marker": {
             "colorbar": {
              "outlinewidth": 0,
              "ticks": ""
             }
            },
            "type": "scattercarpet"
           }
          ],
          "scattergeo": [
           {
            "marker": {
             "colorbar": {
              "outlinewidth": 0,
              "ticks": ""
             }
            },
            "type": "scattergeo"
           }
          ],
          "scattergl": [
           {
            "marker": {
             "colorbar": {
              "outlinewidth": 0,
              "ticks": ""
             }
            },
            "type": "scattergl"
           }
          ],
          "scattermapbox": [
           {
            "marker": {
             "colorbar": {
              "outlinewidth": 0,
              "ticks": ""
             }
            },
            "type": "scattermapbox"
           }
          ],
          "scatterpolar": [
           {
            "marker": {
             "colorbar": {
              "outlinewidth": 0,
              "ticks": ""
             }
            },
            "type": "scatterpolar"
           }
          ],
          "scatterpolargl": [
           {
            "marker": {
             "colorbar": {
              "outlinewidth": 0,
              "ticks": ""
             }
            },
            "type": "scatterpolargl"
           }
          ],
          "scatterternary": [
           {
            "marker": {
             "colorbar": {
              "outlinewidth": 0,
              "ticks": ""
             }
            },
            "type": "scatterternary"
           }
          ],
          "surface": [
           {
            "colorbar": {
             "outlinewidth": 0,
             "ticks": ""
            },
            "colorscale": [
             [
              0,
              "#0d0887"
             ],
             [
              0.1111111111111111,
              "#46039f"
             ],
             [
              0.2222222222222222,
              "#7201a8"
             ],
             [
              0.3333333333333333,
              "#9c179e"
             ],
             [
              0.4444444444444444,
              "#bd3786"
             ],
             [
              0.5555555555555556,
              "#d8576b"
             ],
             [
              0.6666666666666666,
              "#ed7953"
             ],
             [
              0.7777777777777778,
              "#fb9f3a"
             ],
             [
              0.8888888888888888,
              "#fdca26"
             ],
             [
              1,
              "#f0f921"
             ]
            ],
            "type": "surface"
           }
          ],
          "table": [
           {
            "cells": {
             "fill": {
              "color": "#EBF0F8"
             },
             "line": {
              "color": "white"
             }
            },
            "header": {
             "fill": {
              "color": "#C8D4E3"
             },
             "line": {
              "color": "white"
             }
            },
            "type": "table"
           }
          ]
         },
         "layout": {
          "annotationdefaults": {
           "arrowcolor": "#2a3f5f",
           "arrowhead": 0,
           "arrowwidth": 1
          },
          "autotypenumbers": "strict",
          "coloraxis": {
           "colorbar": {
            "outlinewidth": 0,
            "ticks": ""
           }
          },
          "colorscale": {
           "diverging": [
            [
             0,
             "#8e0152"
            ],
            [
             0.1,
             "#c51b7d"
            ],
            [
             0.2,
             "#de77ae"
            ],
            [
             0.3,
             "#f1b6da"
            ],
            [
             0.4,
             "#fde0ef"
            ],
            [
             0.5,
             "#f7f7f7"
            ],
            [
             0.6,
             "#e6f5d0"
            ],
            [
             0.7,
             "#b8e186"
            ],
            [
             0.8,
             "#7fbc41"
            ],
            [
             0.9,
             "#4d9221"
            ],
            [
             1,
             "#276419"
            ]
           ],
           "sequential": [
            [
             0,
             "#0d0887"
            ],
            [
             0.1111111111111111,
             "#46039f"
            ],
            [
             0.2222222222222222,
             "#7201a8"
            ],
            [
             0.3333333333333333,
             "#9c179e"
            ],
            [
             0.4444444444444444,
             "#bd3786"
            ],
            [
             0.5555555555555556,
             "#d8576b"
            ],
            [
             0.6666666666666666,
             "#ed7953"
            ],
            [
             0.7777777777777778,
             "#fb9f3a"
            ],
            [
             0.8888888888888888,
             "#fdca26"
            ],
            [
             1,
             "#f0f921"
            ]
           ],
           "sequentialminus": [
            [
             0,
             "#0d0887"
            ],
            [
             0.1111111111111111,
             "#46039f"
            ],
            [
             0.2222222222222222,
             "#7201a8"
            ],
            [
             0.3333333333333333,
             "#9c179e"
            ],
            [
             0.4444444444444444,
             "#bd3786"
            ],
            [
             0.5555555555555556,
             "#d8576b"
            ],
            [
             0.6666666666666666,
             "#ed7953"
            ],
            [
             0.7777777777777778,
             "#fb9f3a"
            ],
            [
             0.8888888888888888,
             "#fdca26"
            ],
            [
             1,
             "#f0f921"
            ]
           ]
          },
          "colorway": [
           "#636efa",
           "#EF553B",
           "#00cc96",
           "#ab63fa",
           "#FFA15A",
           "#19d3f3",
           "#FF6692",
           "#B6E880",
           "#FF97FF",
           "#FECB52"
          ],
          "font": {
           "color": "#2a3f5f"
          },
          "geo": {
           "bgcolor": "white",
           "lakecolor": "white",
           "landcolor": "#E5ECF6",
           "showlakes": true,
           "showland": true,
           "subunitcolor": "white"
          },
          "hoverlabel": {
           "align": "left"
          },
          "hovermode": "closest",
          "mapbox": {
           "style": "light"
          },
          "paper_bgcolor": "white",
          "plot_bgcolor": "#E5ECF6",
          "polar": {
           "angularaxis": {
            "gridcolor": "white",
            "linecolor": "white",
            "ticks": ""
           },
           "bgcolor": "#E5ECF6",
           "radialaxis": {
            "gridcolor": "white",
            "linecolor": "white",
            "ticks": ""
           }
          },
          "scene": {
           "xaxis": {
            "backgroundcolor": "#E5ECF6",
            "gridcolor": "white",
            "gridwidth": 2,
            "linecolor": "white",
            "showbackground": true,
            "ticks": "",
            "zerolinecolor": "white"
           },
           "yaxis": {
            "backgroundcolor": "#E5ECF6",
            "gridcolor": "white",
            "gridwidth": 2,
            "linecolor": "white",
            "showbackground": true,
            "ticks": "",
            "zerolinecolor": "white"
           },
           "zaxis": {
            "backgroundcolor": "#E5ECF6",
            "gridcolor": "white",
            "gridwidth": 2,
            "linecolor": "white",
            "showbackground": true,
            "ticks": "",
            "zerolinecolor": "white"
           }
          },
          "shapedefaults": {
           "line": {
            "color": "#2a3f5f"
           }
          },
          "ternary": {
           "aaxis": {
            "gridcolor": "white",
            "linecolor": "white",
            "ticks": ""
           },
           "baxis": {
            "gridcolor": "white",
            "linecolor": "white",
            "ticks": ""
           },
           "bgcolor": "#E5ECF6",
           "caxis": {
            "gridcolor": "white",
            "linecolor": "white",
            "ticks": ""
           }
          },
          "title": {
           "x": 0.05
          },
          "xaxis": {
           "automargin": true,
           "gridcolor": "white",
           "linecolor": "white",
           "ticks": "",
           "title": {
            "standoff": 15
           },
           "zerolinecolor": "white",
           "zerolinewidth": 2
          },
          "yaxis": {
           "automargin": true,
           "gridcolor": "white",
           "linecolor": "white",
           "ticks": "",
           "title": {
            "standoff": 15
           },
           "zerolinecolor": "white",
           "zerolinewidth": 2
          }
         }
        },
        "title": {
         "text": "Graphique de densité 3D avec réduction de dimensionnalité (échantillon de 100 points)"
        }
       }
      }
     },
     "metadata": {},
     "output_type": "display_data"
    }
   ],
   "source": [
    "import plotly.graph_objects as go\n",
    "\n",
    "fig = go.Figure(data=[\n",
    "    go.Scatter3d(\n",
    "        x=data_sampled['PC1'],\n",
    "        y=data_sampled['PC2'],\n",
    "        z=data_sampled['PC3'],\n",
    "        mode='markers',\n",
    "        marker=dict(\n",
    "            size=5,\n",
    "            color=data_sampled['Satisfaction'],  \n",
    "            colorscale='Viridis',  \n",
    "            opacity=0.5\n",
    "        )\n",
    "    )\n",
    "])\n",
    "\n",
    "fig.update_layout(\n",
    "    title='Graphique de densité 3D avec réduction de dimensionnalité (échantillon de 100 points)',\n",
    "    scene=dict(\n",
    "        xaxis_title='PC1',\n",
    "        yaxis_title='PC2',\n",
    "        zaxis_title='PC3'\n",
    "    )\n",
    ")\n",
    "\n",
    "fig.show()\n"
   ]
  },
  {
   "cell_type": "code",
   "execution_count": 32,
   "metadata": {},
   "outputs": [
    {
     "data": {
      "application/vnd.plotly.v1+json": {
       "config": {
        "plotlyServerURL": "https://plot.ly"
       },
       "data": [
        {
         "colorscale": [
          [
           0,
           "#440154"
          ],
          [
           0.1111111111111111,
           "#482878"
          ],
          [
           0.2222222222222222,
           "#3e4989"
          ],
          [
           0.3333333333333333,
           "#31688e"
          ],
          [
           0.4444444444444444,
           "#26828e"
          ],
          [
           0.5555555555555556,
           "#1f9e89"
          ],
          [
           0.6666666666666666,
           "#35b779"
          ],
          [
           0.7777777777777778,
           "#6ece58"
          ],
          [
           0.8888888888888888,
           "#b5de2b"
          ],
          [
           1,
           "#fde725"
          ]
         ],
         "type": "surface",
         "z": [
          [
           0.7441116644875169,
           0.6034422889906524,
           0.35622089814221153
          ],
          [
           0.01025286682043031,
           0.4772709801669274,
           0.06862326467335648
          ],
          [
           0.4285457778787278,
           0.5252968047158346,
           0.19112824937952186
          ],
          [
           1,
           0.185322243277848,
           0.6590946260406916
          ],
          [
           0.4414645662952111,
           0.5744286963295825,
           0.1853638914332515
          ],
          [
           0.14578757322356045,
           0.47650083471647636,
           0.4107926876878355
          ],
          [
           0.023580830098206357,
           0.4911404325376908,
           0.7324770469099392
          ],
          [
           0.09677724661057989,
           0.23107946459813158,
           0.46046078080975056
          ],
          [
           0.7785613701404843,
           0.7169037009490192,
           0.2021643603475781
          ],
          [
           0.03136781556688337,
           0.2382526036428118,
           0.5900179414541472
          ],
          [
           0.15029864638491902,
           0.4760827860859182,
           0.27161401745275915
          ],
          [
           0.15727196744254104,
           0.5759049168758203,
           0.33844847749302354
          ],
          [
           0.07382002200630791,
           0.6530989377914854,
           0.44487413942790416
          ],
          [
           0.13021287120573294,
           0.9478734165472154,
           0.45126969660127697
          ],
          [
           0.30839206980487954,
           0.6743708065424389,
           0.33548431913286547
          ],
          [
           0.040395839206321546,
           0.5563995830417386,
           0.46078187960437605
          ],
          [
           0.34591813593841614,
           0.8208383950437825,
           0.233676146313625
          ],
          [
           0.18556612578031578,
           0.47066942616513785,
           0.6752406536828947
          ],
          [
           0.26696565319306975,
           0.2929479362901899,
           0.9123026222175253
          ],
          [
           0.12158925043516053,
           0.3121414221763545,
           0.2618842296812224
          ],
          [
           0.18392837143021978,
           0.6060554782692025,
           0.6380921689018684
          ],
          [
           0.08693526001405402,
           0.2327989898450852,
           0
          ],
          [
           0.09515063541008212,
           0.9692838798168554,
           0.4258508209853512
          ],
          [
           0.06828390647168474,
           0.6538255356802161,
           0.33522055289004465
          ],
          [
           0.4820627933149352,
           0.535707548721948,
           0.407630240054873
          ],
          [
           0.12158858203037527,
           0.27811884292534217,
           0.3472505884104901
          ],
          [
           0.06520991925768067,
           0.7546073770041205,
           0.6516175101213769
          ],
          [
           0.26943008200982094,
           0.4944220679358583,
           0.4908000184315581
          ],
          [
           0.4223908865466141,
           0.3413753248513723,
           0.5201226149299657
          ],
          [
           0.08837009489894966,
           0.21517881897139268,
           0.3071369823131488
          ],
          [
           0.5646963155701555,
           0.5585824256615622,
           0.47547142940988574
          ],
          [
           0,
           0.4599243250475371,
           0.8459884221638513
          ],
          [
           0.1043650814308052,
           0.2970191809652715,
           0.5169935643104172
          ],
          [
           0.13840092424880354,
           0.2089367303633392,
           0.564698278337584
          ],
          [
           0.3660046932711822,
           0.398942438585345,
           0.19910417780961132
          ],
          [
           0.09452067163307147,
           0.1801148627539211,
           0.7858878986104231
          ],
          [
           0.015784227521553118,
           0.22375964149821617,
           0.5672084002517663
          ],
          [
           0.3893753623385823,
           0.16138808622437326,
           0.2882077174329906
          ],
          [
           0.1488625472261009,
           0.44215675896986806,
           0.5458347614124314
          ],
          [
           0.018246966142011073,
           0.3410668946668483,
           0.5191425567568623
          ],
          [
           0.571049241847178,
           0.3734924903486685,
           0.46585570393329956
          ],
          [
           0.03773257323502297,
           0.6750457780186186,
           0.09090209340213638
          ],
          [
           0.47140569593143483,
           0.8218584892637439,
           0.19380755650377118
          ],
          [
           0.07525102133081245,
           0.4182841186891688,
           0.3263006116112114
          ],
          [
           0.4898479160107982,
           0.18234629941918543,
           0.24909461770217053
          ],
          [
           0.6301050399417487,
           0.5172680424962982,
           0.3299282709899125
          ],
          [
           0.08530356946988893,
           0.7022147268129574,
           0.4424198161191494
          ],
          [
           0.06868349762240908,
           0.09970205231075076,
           0.7125761178548143
          ],
          [
           0.35780500389482134,
           0.5173640503884864,
           0.39532714625026805
          ],
          [
           0.4699549454193951,
           0,
           0.6953029290362398
          ],
          [
           0.08262968157315469,
           0.2658037072277428,
           0.6513019774458898
          ],
          [
           0.015781869238149334,
           0.09046045622610681,
           0.2562197016726847
          ],
          [
           0.051461748722496974,
           0.20307669212952456,
           0.34893959153705006
          ],
          [
           0.7018634824543992,
           0.12297453513980953,
           0.3635256107000778
          ],
          [
           0.12364244426806231,
           0.4626920686236498,
           0.3441176857626632
          ],
          [
           0.5575157668423654,
           0.3416253277479546,
           0.22370439064357905
          ],
          [
           0.6994063739652774,
           0.307522340057692,
           0.3914876167308859
          ],
          [
           0.13841358836763562,
           0.8960193659560316,
           0.7872056680535188
          ],
          [
           0.1293916572089634,
           0.8972174896549258,
           0.6054296728914366
          ],
          [
           0.11975613784006678,
           0.982066144529644,
           0.6524132026923005
          ],
          [
           0.48554868952453095,
           0.5516384163660538,
           0.38804969940102685
          ],
          [
           0.08817027808876135,
           0.5001151624948984,
           0.5639420676495992
          ],
          [
           0.03178668191361198,
           0.7081285586422715,
           0.6526590088175988
          ],
          [
           0.19377342003518336,
           0.756079775610136,
           0.1341198205812485
          ],
          [
           0.23538832633352985,
           0.2639309817788055,
           0.46452185876928703
          ],
          [
           0.11175963306119328,
           1,
           0.8119568128211415
          ],
          [
           0.0047215504982232636,
           0.745874012475119,
           0.3026020405085323
          ],
          [
           0.09001974735104873,
           0.7179959772795301,
           0.452230453622571
          ],
          [
           0.09391550278186901,
           0.7171508386667624,
           0.7135755679169424
          ],
          [
           0.0740192167485299,
           0.3345281505925754,
           0.21599290524561876
          ],
          [
           0.11154557141767436,
           0.5134928698156369,
           0.8073329070371631
          ],
          [
           0.08489602033718963,
           0.8522930412764831,
           0.7554564185330124
          ],
          [
           0.1377917786671294,
           0.5275148451144774,
           0.35303483724575896
          ],
          [
           0.053111431591112875,
           0.7057649971963058,
           0.37551130880033445
          ],
          [
           0.1724411276856281,
           0.3552968123677663,
           0.5725854191002063
          ],
          [
           0.18024152934491855,
           0.8239928425395793,
           0.6077545707174312
          ],
          [
           0.31454432242246444,
           0.7235500259917521,
           0.4602426176770808
          ],
          [
           0.05023017882123023,
           0.13570066389314003,
           0.40528546091393897
          ],
          [
           0.055562671800660594,
           0.20282093343038116,
           0.29042882813113335
          ],
          [
           0.0030849853252805292,
           0.9471109040483042,
           0.3900615817260399
          ],
          [
           0.0611006463082456,
           0.3020627802630904,
           0.5504054099613683
          ],
          [
           0.6417924635751798,
           0.515528283891175,
           0.5826290203956291
          ],
          [
           0.014764003292656102,
           0.49259677171026045,
           0.4704213849443267
          ],
          [
           0.04695832376450703,
           0.6063247584658823,
           0.10810734755119421
          ],
          [
           0.1892648385279981,
           0.8901722449870321,
           0.49420130753932845
          ],
          [
           0.2942362774179639,
           0.2569890204876585,
           0.0953748521272849
          ],
          [
           0.2995715291580959,
           0.47451603193839303,
           0.19493984833849118
          ],
          [
           0.09350025838964636,
           0.4323950588968441,
           0.3879040338197517
          ],
          [
           0.7713745236469749,
           0.18007934252259133,
           1
          ],
          [
           0.36907722962347694,
           0.23087421924700507,
           0.20549498640283748
          ],
          [
           0.3444821906550367,
           0.7875059976643504,
           0.12156995899475641
          ],
          [
           0.13040939838962692,
           0.49425546990249114,
           0.6900089520448651
          ],
          [
           0.06417875602719507,
           0.43603456102284993,
           0.6213896660239177
          ],
          [
           0.2405134906994267,
           0.212819853284219,
           0.7013467623993414
          ],
          [
           0.45520473703254266,
           0.7057356966657633,
           0.8163647872963584
          ],
          [
           0.1949947292825609,
           0.2695748394691911,
           0.08036967010421786
          ],
          [
           0.10456517559368991,
           0.028770859295057266,
           0.4421877704246916
          ],
          [
           0.6594276587290766,
           0.596642506042924,
           0.9401489759847969
          ],
          [
           0.06376784004473506,
           0.38586719255774965,
           0.398477383119586
          ],
          [
           0.08345807173184458,
           0.7025635811331902,
           0.3109188692098889
          ]
         ]
        }
       ],
       "layout": {
        "scene": {
         "xaxis": {
          "title": {
           "text": "Food and Drink"
          }
         },
         "yaxis": {
          "title": {
           "text": "Inflight Service"
          }
         },
         "zaxis": {
          "title": {
           "text": "Satisfaction"
          }
         }
        },
        "template": {
         "data": {
          "bar": [
           {
            "error_x": {
             "color": "#2a3f5f"
            },
            "error_y": {
             "color": "#2a3f5f"
            },
            "marker": {
             "line": {
              "color": "#E5ECF6",
              "width": 0.5
             },
             "pattern": {
              "fillmode": "overlay",
              "size": 10,
              "solidity": 0.2
             }
            },
            "type": "bar"
           }
          ],
          "barpolar": [
           {
            "marker": {
             "line": {
              "color": "#E5ECF6",
              "width": 0.5
             },
             "pattern": {
              "fillmode": "overlay",
              "size": 10,
              "solidity": 0.2
             }
            },
            "type": "barpolar"
           }
          ],
          "carpet": [
           {
            "aaxis": {
             "endlinecolor": "#2a3f5f",
             "gridcolor": "white",
             "linecolor": "white",
             "minorgridcolor": "white",
             "startlinecolor": "#2a3f5f"
            },
            "baxis": {
             "endlinecolor": "#2a3f5f",
             "gridcolor": "white",
             "linecolor": "white",
             "minorgridcolor": "white",
             "startlinecolor": "#2a3f5f"
            },
            "type": "carpet"
           }
          ],
          "choropleth": [
           {
            "colorbar": {
             "outlinewidth": 0,
             "ticks": ""
            },
            "type": "choropleth"
           }
          ],
          "contour": [
           {
            "colorbar": {
             "outlinewidth": 0,
             "ticks": ""
            },
            "colorscale": [
             [
              0,
              "#0d0887"
             ],
             [
              0.1111111111111111,
              "#46039f"
             ],
             [
              0.2222222222222222,
              "#7201a8"
             ],
             [
              0.3333333333333333,
              "#9c179e"
             ],
             [
              0.4444444444444444,
              "#bd3786"
             ],
             [
              0.5555555555555556,
              "#d8576b"
             ],
             [
              0.6666666666666666,
              "#ed7953"
             ],
             [
              0.7777777777777778,
              "#fb9f3a"
             ],
             [
              0.8888888888888888,
              "#fdca26"
             ],
             [
              1,
              "#f0f921"
             ]
            ],
            "type": "contour"
           }
          ],
          "contourcarpet": [
           {
            "colorbar": {
             "outlinewidth": 0,
             "ticks": ""
            },
            "type": "contourcarpet"
           }
          ],
          "heatmap": [
           {
            "colorbar": {
             "outlinewidth": 0,
             "ticks": ""
            },
            "colorscale": [
             [
              0,
              "#0d0887"
             ],
             [
              0.1111111111111111,
              "#46039f"
             ],
             [
              0.2222222222222222,
              "#7201a8"
             ],
             [
              0.3333333333333333,
              "#9c179e"
             ],
             [
              0.4444444444444444,
              "#bd3786"
             ],
             [
              0.5555555555555556,
              "#d8576b"
             ],
             [
              0.6666666666666666,
              "#ed7953"
             ],
             [
              0.7777777777777778,
              "#fb9f3a"
             ],
             [
              0.8888888888888888,
              "#fdca26"
             ],
             [
              1,
              "#f0f921"
             ]
            ],
            "type": "heatmap"
           }
          ],
          "heatmapgl": [
           {
            "colorbar": {
             "outlinewidth": 0,
             "ticks": ""
            },
            "colorscale": [
             [
              0,
              "#0d0887"
             ],
             [
              0.1111111111111111,
              "#46039f"
             ],
             [
              0.2222222222222222,
              "#7201a8"
             ],
             [
              0.3333333333333333,
              "#9c179e"
             ],
             [
              0.4444444444444444,
              "#bd3786"
             ],
             [
              0.5555555555555556,
              "#d8576b"
             ],
             [
              0.6666666666666666,
              "#ed7953"
             ],
             [
              0.7777777777777778,
              "#fb9f3a"
             ],
             [
              0.8888888888888888,
              "#fdca26"
             ],
             [
              1,
              "#f0f921"
             ]
            ],
            "type": "heatmapgl"
           }
          ],
          "histogram": [
           {
            "marker": {
             "pattern": {
              "fillmode": "overlay",
              "size": 10,
              "solidity": 0.2
             }
            },
            "type": "histogram"
           }
          ],
          "histogram2d": [
           {
            "colorbar": {
             "outlinewidth": 0,
             "ticks": ""
            },
            "colorscale": [
             [
              0,
              "#0d0887"
             ],
             [
              0.1111111111111111,
              "#46039f"
             ],
             [
              0.2222222222222222,
              "#7201a8"
             ],
             [
              0.3333333333333333,
              "#9c179e"
             ],
             [
              0.4444444444444444,
              "#bd3786"
             ],
             [
              0.5555555555555556,
              "#d8576b"
             ],
             [
              0.6666666666666666,
              "#ed7953"
             ],
             [
              0.7777777777777778,
              "#fb9f3a"
             ],
             [
              0.8888888888888888,
              "#fdca26"
             ],
             [
              1,
              "#f0f921"
             ]
            ],
            "type": "histogram2d"
           }
          ],
          "histogram2dcontour": [
           {
            "colorbar": {
             "outlinewidth": 0,
             "ticks": ""
            },
            "colorscale": [
             [
              0,
              "#0d0887"
             ],
             [
              0.1111111111111111,
              "#46039f"
             ],
             [
              0.2222222222222222,
              "#7201a8"
             ],
             [
              0.3333333333333333,
              "#9c179e"
             ],
             [
              0.4444444444444444,
              "#bd3786"
             ],
             [
              0.5555555555555556,
              "#d8576b"
             ],
             [
              0.6666666666666666,
              "#ed7953"
             ],
             [
              0.7777777777777778,
              "#fb9f3a"
             ],
             [
              0.8888888888888888,
              "#fdca26"
             ],
             [
              1,
              "#f0f921"
             ]
            ],
            "type": "histogram2dcontour"
           }
          ],
          "mesh3d": [
           {
            "colorbar": {
             "outlinewidth": 0,
             "ticks": ""
            },
            "type": "mesh3d"
           }
          ],
          "parcoords": [
           {
            "line": {
             "colorbar": {
              "outlinewidth": 0,
              "ticks": ""
             }
            },
            "type": "parcoords"
           }
          ],
          "pie": [
           {
            "automargin": true,
            "type": "pie"
           }
          ],
          "scatter": [
           {
            "fillpattern": {
             "fillmode": "overlay",
             "size": 10,
             "solidity": 0.2
            },
            "type": "scatter"
           }
          ],
          "scatter3d": [
           {
            "line": {
             "colorbar": {
              "outlinewidth": 0,
              "ticks": ""
             }
            },
            "marker": {
             "colorbar": {
              "outlinewidth": 0,
              "ticks": ""
             }
            },
            "type": "scatter3d"
           }
          ],
          "scattercarpet": [
           {
            "marker": {
             "colorbar": {
              "outlinewidth": 0,
              "ticks": ""
             }
            },
            "type": "scattercarpet"
           }
          ],
          "scattergeo": [
           {
            "marker": {
             "colorbar": {
              "outlinewidth": 0,
              "ticks": ""
             }
            },
            "type": "scattergeo"
           }
          ],
          "scattergl": [
           {
            "marker": {
             "colorbar": {
              "outlinewidth": 0,
              "ticks": ""
             }
            },
            "type": "scattergl"
           }
          ],
          "scattermapbox": [
           {
            "marker": {
             "colorbar": {
              "outlinewidth": 0,
              "ticks": ""
             }
            },
            "type": "scattermapbox"
           }
          ],
          "scatterpolar": [
           {
            "marker": {
             "colorbar": {
              "outlinewidth": 0,
              "ticks": ""
             }
            },
            "type": "scatterpolar"
           }
          ],
          "scatterpolargl": [
           {
            "marker": {
             "colorbar": {
              "outlinewidth": 0,
              "ticks": ""
             }
            },
            "type": "scatterpolargl"
           }
          ],
          "scatterternary": [
           {
            "marker": {
             "colorbar": {
              "outlinewidth": 0,
              "ticks": ""
             }
            },
            "type": "scatterternary"
           }
          ],
          "surface": [
           {
            "colorbar": {
             "outlinewidth": 0,
             "ticks": ""
            },
            "colorscale": [
             [
              0,
              "#0d0887"
             ],
             [
              0.1111111111111111,
              "#46039f"
             ],
             [
              0.2222222222222222,
              "#7201a8"
             ],
             [
              0.3333333333333333,
              "#9c179e"
             ],
             [
              0.4444444444444444,
              "#bd3786"
             ],
             [
              0.5555555555555556,
              "#d8576b"
             ],
             [
              0.6666666666666666,
              "#ed7953"
             ],
             [
              0.7777777777777778,
              "#fb9f3a"
             ],
             [
              0.8888888888888888,
              "#fdca26"
             ],
             [
              1,
              "#f0f921"
             ]
            ],
            "type": "surface"
           }
          ],
          "table": [
           {
            "cells": {
             "fill": {
              "color": "#EBF0F8"
             },
             "line": {
              "color": "white"
             }
            },
            "header": {
             "fill": {
              "color": "#C8D4E3"
             },
             "line": {
              "color": "white"
             }
            },
            "type": "table"
           }
          ]
         },
         "layout": {
          "annotationdefaults": {
           "arrowcolor": "#2a3f5f",
           "arrowhead": 0,
           "arrowwidth": 1
          },
          "autotypenumbers": "strict",
          "coloraxis": {
           "colorbar": {
            "outlinewidth": 0,
            "ticks": ""
           }
          },
          "colorscale": {
           "diverging": [
            [
             0,
             "#8e0152"
            ],
            [
             0.1,
             "#c51b7d"
            ],
            [
             0.2,
             "#de77ae"
            ],
            [
             0.3,
             "#f1b6da"
            ],
            [
             0.4,
             "#fde0ef"
            ],
            [
             0.5,
             "#f7f7f7"
            ],
            [
             0.6,
             "#e6f5d0"
            ],
            [
             0.7,
             "#b8e186"
            ],
            [
             0.8,
             "#7fbc41"
            ],
            [
             0.9,
             "#4d9221"
            ],
            [
             1,
             "#276419"
            ]
           ],
           "sequential": [
            [
             0,
             "#0d0887"
            ],
            [
             0.1111111111111111,
             "#46039f"
            ],
            [
             0.2222222222222222,
             "#7201a8"
            ],
            [
             0.3333333333333333,
             "#9c179e"
            ],
            [
             0.4444444444444444,
             "#bd3786"
            ],
            [
             0.5555555555555556,
             "#d8576b"
            ],
            [
             0.6666666666666666,
             "#ed7953"
            ],
            [
             0.7777777777777778,
             "#fb9f3a"
            ],
            [
             0.8888888888888888,
             "#fdca26"
            ],
            [
             1,
             "#f0f921"
            ]
           ],
           "sequentialminus": [
            [
             0,
             "#0d0887"
            ],
            [
             0.1111111111111111,
             "#46039f"
            ],
            [
             0.2222222222222222,
             "#7201a8"
            ],
            [
             0.3333333333333333,
             "#9c179e"
            ],
            [
             0.4444444444444444,
             "#bd3786"
            ],
            [
             0.5555555555555556,
             "#d8576b"
            ],
            [
             0.6666666666666666,
             "#ed7953"
            ],
            [
             0.7777777777777778,
             "#fb9f3a"
            ],
            [
             0.8888888888888888,
             "#fdca26"
            ],
            [
             1,
             "#f0f921"
            ]
           ]
          },
          "colorway": [
           "#636efa",
           "#EF553B",
           "#00cc96",
           "#ab63fa",
           "#FFA15A",
           "#19d3f3",
           "#FF6692",
           "#B6E880",
           "#FF97FF",
           "#FECB52"
          ],
          "font": {
           "color": "#2a3f5f"
          },
          "geo": {
           "bgcolor": "white",
           "lakecolor": "white",
           "landcolor": "#E5ECF6",
           "showlakes": true,
           "showland": true,
           "subunitcolor": "white"
          },
          "hoverlabel": {
           "align": "left"
          },
          "hovermode": "closest",
          "mapbox": {
           "style": "light"
          },
          "paper_bgcolor": "white",
          "plot_bgcolor": "#E5ECF6",
          "polar": {
           "angularaxis": {
            "gridcolor": "white",
            "linecolor": "white",
            "ticks": ""
           },
           "bgcolor": "#E5ECF6",
           "radialaxis": {
            "gridcolor": "white",
            "linecolor": "white",
            "ticks": ""
           }
          },
          "scene": {
           "xaxis": {
            "backgroundcolor": "#E5ECF6",
            "gridcolor": "white",
            "gridwidth": 2,
            "linecolor": "white",
            "showbackground": true,
            "ticks": "",
            "zerolinecolor": "white"
           },
           "yaxis": {
            "backgroundcolor": "#E5ECF6",
            "gridcolor": "white",
            "gridwidth": 2,
            "linecolor": "white",
            "showbackground": true,
            "ticks": "",
            "zerolinecolor": "white"
           },
           "zaxis": {
            "backgroundcolor": "#E5ECF6",
            "gridcolor": "white",
            "gridwidth": 2,
            "linecolor": "white",
            "showbackground": true,
            "ticks": "",
            "zerolinecolor": "white"
           }
          },
          "shapedefaults": {
           "line": {
            "color": "#2a3f5f"
           }
          },
          "ternary": {
           "aaxis": {
            "gridcolor": "white",
            "linecolor": "white",
            "ticks": ""
           },
           "baxis": {
            "gridcolor": "white",
            "linecolor": "white",
            "ticks": ""
           },
           "bgcolor": "#E5ECF6",
           "caxis": {
            "gridcolor": "white",
            "linecolor": "white",
            "ticks": ""
           }
          },
          "title": {
           "x": 0.05
          },
          "xaxis": {
           "automargin": true,
           "gridcolor": "white",
           "linecolor": "white",
           "ticks": "",
           "title": {
            "standoff": 15
           },
           "zerolinecolor": "white",
           "zerolinewidth": 2
          },
          "yaxis": {
           "automargin": true,
           "gridcolor": "white",
           "linecolor": "white",
           "ticks": "",
           "title": {
            "standoff": 15
           },
           "zerolinecolor": "white",
           "zerolinewidth": 2
          }
         }
        },
        "title": {
         "text": "Graphique de densité 3D normalisé avec réduction de dimensionnalité (échantillon de 100 points)"
        }
       }
      }
     },
     "metadata": {},
     "output_type": "display_data"
    }
   ],
   "source": [
    "import plotly.graph_objects as go\n",
    "import numpy as np\n",
    "\n",
    "normalized_data_sampled = data_sampled[['PC1', 'PC2', 'PC3']].apply(lambda x: (x - x.min()) / (x.max() - x.min()))\n",
    "\n",
    "fig = go.Figure(data=[\n",
    "    go.Surface(\n",
    "        z=normalized_data_sampled.values,\n",
    "        colorscale='Viridis',  \n",
    "    )\n",
    "])\n",
    "\n",
    "fig.update_layout(\n",
    "    title='Graphique de densité 3D normalisé avec réduction de dimensionnalité (échantillon de 100 points)',\n",
    "    scene=dict(\n",
    "        xaxis_title='Food and Drink',\n",
    "        yaxis_title='Inflight Service',\n",
    "        zaxis_title='Satisfaction'\n",
    "    )\n",
    ")\n",
    "\n",
    "fig.show()\n"
   ]
  },
  {
   "cell_type": "code",
   "execution_count": 36,
   "metadata": {},
   "outputs": [],
   "source": [
    "data_sampled = data[['Food_and_drink', 'Inflight_service', 'Satisfaction']].sample(n=100)\n",
    "\n",
    "mean_data = data_sampled.groupby(['Food_and_drink', 'Inflight_service'])['Satisfaction'].mean().reset_index()\n"
   ]
  },
  {
   "cell_type": "code",
   "execution_count": 19,
   "metadata": {},
   "outputs": [],
   "source": [
    "# import plotly.graph_objects as go\n",
    "\n",
    "\n",
    "# normalized_data_sampled = data_sampled[['PC1', 'PC2', 'PC3']].apply(lambda x: (x - x.min()) / (x.max() - x.min()))\n",
    "\n",
    "\n",
    "# fig = go.Figure(data=[\n",
    "#     go.Surface(\n",
    "#         z=normalized_data_sampled.values,\n",
    "#         colorscale='Viridis',  \n",
    "#         showscale=False,  \n",
    "#         type='carpet'  \n",
    "#     )\n",
    "# ])\n",
    "\n",
    "# fig.update_layout(\n",
    "#     title='Graphique de densité 3D en forme de \"drap\" normalisé avec réduction de dimensionnalité (échantillon de 100 points)',\n",
    "#     scene=dict(\n",
    "#         xaxis_title='PC1',\n",
    "#         yaxis_title='PC2',\n",
    "#         zaxis_title='PC3',\n",
    "#     )\n",
    "# )\n",
    "\n",
    "# fig.show()"
   ]
  },
  {
   "cell_type": "code",
   "execution_count": 20,
   "metadata": {},
   "outputs": [],
   "source": [
    "import numpy as np\n",
    "from mayavi import mlab\n",
    "\n",
    "x, y, z = np.mgrid[-5:5:100j, -5:5:100j, -5:5:100j]\n",
    "data = np.sin(x * y * z) / (x * y * z)\n",
    "\n",
    "mlab.figure()\n",
    "mlab.contour3d(x, y, z, data, contours=40, opacity=0.7)\n",
    "mlab.colorbar()\n",
    "\n",
    "mlab.show()\n"
   ]
  },
  {
   "cell_type": "code",
   "execution_count": 23,
   "metadata": {},
   "outputs": [],
   "source": [
    "import pandas as pd\n",
    "import plotly.express as px\n",
    "data = pd.read_csv(\"Airline_Dataset.csv\")\n",
    "\n",
    "data = data.rename(columns={\n",
    "    'Gender': 'Gender',\n",
    "    'Customer Type': 'Customer_Type',\n",
    "    'Type of Travel': 'Type_of_Travel',\n",
    "    'Class': 'Class',\n",
    "    'Satisfaction': 'Satisfaction',\n",
    "    'id': 'ID',\n",
    "    'Age': 'Age',\n",
    "    'Flight Distance': 'Flight_Distance',\n",
    "    'Departure/Arrival time convenient': 'Departure_Arrival_time_convenient',\n",
    "    'Ease of Online booking': 'Ease_of_Online_booking',\n",
    "    'Gate location': 'Gate_location',\n",
    "    'Departure Delay in Minutes': 'Departure_Delay_in_Minutes',\n",
    "    'Arrival Delay in Minutes': 'Arrival_Delay_in_Minutes',\n",
    "    'Inflight wifi service': 'Inflight_wifi_service',\n",
    "    'Food and drink': 'Food_and_drink',\n",
    "    'Online boarding': 'Online_boarding',\n",
    "    'Seat comfort': 'Seat_comfort',\n",
    "    'Inflight entertainment': 'Inflight_entertainment',\n",
    "    'On-board service': 'On_board_service',\n",
    "    'Leg room service': 'Leg_room_service',\n",
    "    'Baggage handling': 'Baggage_handling',\n",
    "    'Checkin service': 'Checkin_service',\n",
    "    'Inflight service': 'Inflight_service',\n",
    "    'Cleanliness': 'Cleanliness'\n",
    "\n",
    "})\n",
    "\n",
    "data = data.dropna()\n",
    "\n",
    "\n",
    "data['Total_Delay'] = data['Departure_Delay_in_Minutes'] + data['Arrival_Delay_in_Minutes']\n",
    "data=data.drop(['Departure_Delay_in_Minutes'], axis=1)\n",
    "data=data.drop(['Arrival_Delay_in_Minutes'], axis=1)\n"
   ]
  },
  {
   "cell_type": "code",
   "execution_count": 24,
   "metadata": {},
   "outputs": [],
   "source": [
    "\n",
    "data['Satisfaction'] = data['Satisfaction'].map({'neutral or dissatisfied': 0, 'satisfied': 1})\n",
    "\n",
    "groundT =data['Satisfaction']\n",
    "data=data.drop(['ID'], axis=1)\n",
    "\n",
    "data = pd.get_dummies(data, columns=['Gender', 'Customer_Type', 'Type_of_Travel', 'Class'])"
   ]
  },
  {
   "cell_type": "code",
   "execution_count": 25,
   "metadata": {},
   "outputs": [],
   "source": [
    "import pandas as pd\n",
    "import plotly.express as px\n",
    "from sklearn.decomposition import PCA\n",
    "from mayavi import mlab\n",
    "import numpy as np\n",
    "from scipy.interpolate import griddata\n",
    "\n",
    "pca = PCA(n_components=3)\n",
    "# data_3d = pca.fit_transform(data[['Food_and_drink', 'Inflight_service', 'Flight_Distance', 'Inflight_wifi_service', 'Online_boarding', 'Age', 'Satisfaction']])\n",
    "# data_3d = pca.fit_transform(data[['Inflight_wifi_service', 'Online_boarding', 'Satisfaction']])\n",
    "data_3d = pca.fit_transform(data[['Food_and_drink', 'Inflight_service', 'Satisfaction']])\n",
    "\n",
    "data_3d_df = pd.DataFrame(data_3d, columns=['PC1', 'PC2', 'PC3'])\n",
    "\n",
    "data_sampled = data_3d_df.sample(n=100)\n",
    "\n",
    "fig = mlab.figure(size=(800, 600), bgcolor=(1, 1, 1))\n",
    "\n",
    "x = data_sampled['PC1'].values\n",
    "y = data_sampled['PC2'].values\n",
    "z = data_sampled['PC3'].values\n",
    "\n",
    "xi, yi = np.meshgrid(xi, yi)\n",
    "\n",
    "zi = griddata((x, y), z, (xi, yi), method='cubic')\n",
    "\n",
    "mesh = mlab.mesh(xi, yi, zi, colormap=\"viridis\")\n",
    "\n",
    "mlab.colorbar(mesh, title=\"Valeur\")\n",
    "\n",
    "mlab.show()\n"
   ]
  },
  {
   "cell_type": "code",
   "execution_count": 26,
   "metadata": {},
   "outputs": [
    {
     "name": "stdout",
     "output_type": "stream",
     "text": [
      "La colonne 'Satisfaction' n'a pas été trouvée dans le jeu de données.\n"
     ]
    }
   ],
   "source": [
    "from sklearn.preprocessing import MinMaxScaler\n",
    "\n",
    "scaler = MinMaxScaler()\n",
    "\n",
    "satisfaction_column_name = 'Satisfaction'  \n",
    "if satisfaction_column_name in data_sampled.columns:\n",
    "    satisfaction = data_sampled[[satisfaction_column_name]]\n",
    "\n",
    "    data_sampled = data_sampled.drop(columns=[satisfaction_column_name])\n",
    "\n",
    "    normalized_data_sampled = scaler.fit_transform(data_sampled)\n",
    "\n",
    "    normalized_data_sampled = pd.DataFrame(normalized_data_sampled, columns=data_sampled.columns)\n",
    "    normalized_data_sampled[satisfaction_column_name] = satisfaction\n",
    "\n",
    "    fig = mlab.figure(size=(800, 600), bgcolor=(1, 1, 1))\n",
    "\n",
    "    x = normalized_data_sampled['PC1'].values\n",
    "    y = normalized_data_sampled['PC2'].values\n",
    "    z = normalized_data_sampled['PC3'].values\n",
    "\n",
    "    xi, yi = np.meshgrid(x, y)\n",
    "\n",
    "    mesh = mlab.mesh(xi, yi, z, colormap=\"viridis\")\n",
    "\n",
    "    mlab.colorbar(mesh, title=\"Valeur normalisée\")\n",
    "\n",
    "    mlab.show()\n",
    "else:\n",
    "    print(f\"La colonne '{satisfaction_column_name}' n'a pas été trouvée dans le jeu de données.\")\n",
    "\n"
   ]
  },
  {
   "cell_type": "code",
   "execution_count": 28,
   "metadata": {},
   "outputs": [],
   "source": [
    "import pandas as pd\n",
    "import plotly.express as px\n",
    "from sklearn.decomposition import PCA\n",
    "from mayavi import mlab\n",
    "import numpy as np\n",
    "from scipy.interpolate import griddata\n",
    "\n",
    "pca = PCA(n_components=3)\n",
    "data_3d = pca.fit_transform(data[['Food_and_drink', 'Inflight_service', 'Flight_Distance', 'Inflight_wifi_service', 'Online_boarding', 'Age', 'Satisfaction']])\n",
    "\n",
    "data_3d_df = pd.DataFrame(data_3d, columns=['PC1', 'PC2', 'PC3'])\n",
    "\n",
    "data_sampled = data_3d_df.sample(n=100)\n",
    "\n",
    "fig = mlab.figure(size=(800, 600), bgcolor=(1, 1, 1))\n",
    "\n",
    "x = data_sampled['PC1'].values\n",
    "y = data_sampled['PC2'].values\n",
    "z = data_sampled['PC3'].values\n",
    "\n",
    "xi, yi = np.meshgrid(x, y)\n",
    "zi = griddata((x, y), z, (xi, yi), method='cubic')\n",
    "\n",
    "mesh = mlab.mesh(xi, yi, zi, colormap=\"viridis\")\n",
    "\n",
    "mlab.colorbar(mesh, title=\"Valeur\")\n",
    "\n",
    "mlab.show()\n"
   ]
  },
  {
   "cell_type": "code",
   "execution_count": 29,
   "metadata": {},
   "outputs": [
    {
     "data": {
      "application/vnd.plotly.v1+json": {
       "config": {
        "plotlyServerURL": "https://plot.ly"
       },
       "data": [
        {
         "hovertemplate": "PC1=%{x}<br>PC2=%{y}<br>PC3=%{z}<br>Satisfaction=%{marker.color}<extra></extra>",
         "legendgroup": "",
         "marker": {
          "color": [
           0,
           0,
           0,
           0,
           0,
           0,
           0,
           1,
           0,
           1,
           0,
           0,
           1,
           0,
           1,
           0,
           0,
           1,
           1,
           1,
           1,
           0,
           0,
           1,
           0,
           1,
           0,
           0,
           0,
           1,
           0,
           1,
           1,
           0,
           1,
           0,
           0,
           1,
           1,
           0,
           1,
           1,
           1,
           0,
           0,
           1,
           1,
           0,
           0,
           1,
           0,
           0,
           1,
           0,
           0,
           0,
           1,
           0,
           0,
           0,
           0,
           0,
           1,
           0,
           0,
           0,
           0,
           0,
           0,
           0,
           1,
           0,
           0,
           0,
           1,
           1,
           1,
           1,
           1,
           1,
           0,
           0,
           0,
           0,
           0,
           1,
           0,
           1,
           0,
           0,
           0,
           1,
           1,
           1,
           0,
           0,
           0,
           0,
           1,
           0
          ],
          "coloraxis": "coloraxis",
          "symbol": "circle"
         },
         "mode": "markers",
         "name": "",
         "scene": "scene",
         "showlegend": false,
         "type": "scatter3d",
         "x": [
          2524.8013204839153,
          -1054.214017757949,
          985.7925193506134,
          3772.763844865643,
          1048.797203686455,
          -393.2138435787108,
          -989.2137954395348,
          -632.2362702876628,
          2692.81187690409,
          -951.2368160537749,
          -371.21342594011526,
          -337.2046723446637,
          -744.198216159744,
          -469.171367815735,
          399.80518021944,
          -907.2073172152021,
          582.8190879395106,
          -199.21460259901434,
          197.7693377203149,
          -511.22860158764814,
          -207.20189928047358,
          -680.2354509198428,
          -640.169222041385,
          -771.1977458726574,
          1246.793981364841,
          -511.23186138501825,
          -786.1895227968483,
          209.78830998473006,
          955.7752318930336,
          -673.2377885940508,
          1649.796090959429,
          -1104.2170533935835,
          -595.2305448102778,
          -429.2383895307465,
          680.7808443631993,
          -643.2415433484612,
          -1027.2376772771913,
          794.7591509844474,
          -378.2172541056772,
          -1015.2269480678126,
          1680.7791910605172,
          -920.1960144842091,
          1194.8195209946214,
          -737.2192597887135,
          1284.7618760431697,
          1968.7931902991922,
          -688.1931745356062,
          -769.2489474634614,
          640.7911159030284,
          1187.7442384592637,
          -701.2336747320657,
          -1027.2491785803043,
          -853.2390878829495,
          2318.757743722221,
          -501.21521448416246,
          1614.7766919749772,
          2306.774472555824,
          -429.1766268651091,
          -473.17641279136313,
          -520.1686566982788,
          1263.7946305923542,
          -674.2122913604903,
          -949.1940128818558,
          -159.18778529163248,
          43.76731780825095,
          -559.1674577576835,
          -1081.1901418035823,
          -665.1924650963972,
          -646.192940275997,
          -743.2267472068937,
          -560.2114323041752,
          -690.1807838708828,
          -432.20918089683,
          -845.1936160445243,
          -263.2249675964949,
          -225.1825577053858,
          429.8095987166668,
          -859.2454307662985,
          -833.2389643655151,
          -1089.1716388907803,
          -806.2303684769765,
          2025.7925321092991,
          -1032.2132913534633,
          -875.2022053798104,
          -181.17605118041968,
          330.7676511487291,
          356.78757197275695,
          -648.2180792449761,
          2657.761763836523,
          695.765545462548,
          575.8160102215236,
          -468.2129084938954,
          -791.2184861749139,
          68.76264652116876,
          1115.8077539112414,
          -153.2314834213049,
          -594.2546894000359,
          2111.7990420119277,
          -793.2225155721608,
          -697.1936317518291
         ],
         "y": [
          5.746887118258762,
          -1.7774880858599993,
          1.0865887534951384,
          -19.188196250828433,
          4.016627210228813,
          -1.8234166205242064,
          -0.9503668925697014,
          -16.459410247722662,
          12.513292592870965,
          -16.031631618280887,
          -1.8483474449660988,
          4.104663368191172,
          8.708220090389778,
          26.287444713124138,
          9.97679313815423,
          2.941439719189713,
          18.711560981977602,
          -2.1711795653477375,
          -12.769810776524094,
          -11.625184548668841,
          5.902727751081728,
          -16.356864326215973,
          27.564283008903804,
          8.75155161471413,
          1.7074457834041317,
          -13.654161295308924,
          14.761795900461161,
          -0.754662684940154,
          -9.881786192432061,
          -17.407664052797056,
          3.071616120118081,
          -2.811976376990393,
          -12.52701728592249,
          -17.779918388447715,
          -6.4487032895848255,
          -19.498744546300173,
          -16.895936554257915,
          -20.615538009771857,
          -3.8715661908611034,
          -9.900179791216685,
          -7.966441048219747,
          10.017045860315893,
          18.772395507085577,
          -5.295239324314113,
          -19.365670182007623,
          0.6077840242135657,
          11.637298249991147,
          -24.29425758831373,
          0.6135095683972253,
          -30.240107379369395,
          -14.388588975755953,
          -24.845391099363592,
          -18.129388698241407,
          -22.906375554198522,
          -2.646918715865891,
          -9.866876974056353,
          -11.90064897305719,
          23.195067086713586,
          23.266518610324407,
          28.326568480569648,
          2.6575019142228924,
          -0.41514825860894367,
          11.989976604465443,
          14.849604132498763,
          -14.500271172473065,
          29.396075159016828,
          14.240971379235367,
          12.578431783499669,
          12.52803094291842,
          -10.29012552640181,
          0.38264713711572224,
          20.58739600639129,
          1.2188642155861198,
          11.849022822633138,
          -9.051561821698522,
          18.89968018864469,
          12.909654046328827,
          -22.1474378168579,
          -18.144641170709303,
          26.241971378551273,
          -12.226236277547287,
          0.504031462465713,
          -0.8635163838365368,
          5.918786594044898,
          22.846367113282305,
          -14.914263243206317,
          -1.9417826813006802,
          -4.453716718300938,
          -19.50086283729956,
          -16.471650296947598,
          16.72374404741576,
          -0.7645979556685747,
          -4.2366707051656105,
          -17.548343761119135,
          11.847275450845236,
          -14.163693045028552,
          -28.524323162663134,
          5.341374021166629,
          -7.228461048420812,
          11.658102589911852
         ],
         "z": [
          -0.9418746363984714,
          -3.213411790563308,
          -2.2458286398466485,
          1.450317947537771,
          -2.2913573637339972,
          -0.510849366729229,
          2.0299155382985745,
          -0.11855504378179434,
          -2.15866194170989,
          0.9047284250083605,
          -1.610126564156059,
          -1.0822468409161023,
          -0.241663271691957,
          -0.19114913648967582,
          -1.1056587020107678,
          -0.11601890385132328,
          -1.9097718804371249,
          1.5778443852176154,
          3.4502348596134507,
          -1.68697550814286,
          1.2844338922895975,
          -3.7554200590788325,
          -0.39191546297936447,
          -1.1077420112972707,
          -0.5358273792731078,
          -1.0127249823982,
          1.3912613189700678,
          0.12107385947354085,
          0.35267300929731615,
          -1.3295549421534552,
          0.0000038107958878310588,
          2.926464314446732,
          0.32795877693790193,
          0.7047457102464224,
          -2.1828322321593445,
          2.4517713533478176,
          0.7245714477560669,
          -1.4790642686304527,
          0.5557556819319451,
          0.3449321995882943,
          -0.07594423307659515,
          -3.0374465484356152,
          -2.2246666239887887,
          -1.1781945313109055,
          -1.7879919123717702,
          -1.1495421291267038,
          -0.2610482941517227,
          1.8727317005671347,
          -0.6330011089427645,
          1.736302587089934,
          1.3887691420106223,
          -1.7317157435787474,
          -0.9993847010154709,
          -0.8841797041573668,
          -1.0374696392963967,
          -1.9885319634863345,
          -0.6633269285699751,
          2.462179513576783,
          1.026455158805021,
          1.3975459507882972,
          -0.6904806879856198,
          0.6987729188384567,
          1.3994874053809567,
          -2.6960992577022793,
          -0.08647936443846568,
          2.65767189044245,
          -1.3653733481567065,
          -0.18356077338782667,
          1.8806256735545794,
          -2.0494397163909266,
          2.6211508187667962,
          2.2114138899768556,
          -0.9670391539726654,
          -0.7895128662388818,
          0.7670408448284838,
          1.0448179378296123,
          -0.12027816526770865,
          -0.5543471872169354,
          -1.461521233197615,
          -0.6745902044793651,
          0.5918561111055538,
          0.8463683873711502,
          -0.039883039089975855,
          -2.901554004484394,
          0.1479383175957008,
          -3.0021192840793525,
          -2.2157234246275794,
          -0.6916312008600081,
          4.142896511773026,
          -2.132355602746324,
          -2.795222037432767,
          1.6944890808932513,
          1.1525122370339793,
          1.784038696293186,
          2.6924874682839484,
          -3.1206349619007914,
          -0.2628810645054537,
          3.6701741770112943,
          -0.6081195408757214,
          -1.299684402207845
         ]
        }
       ],
       "layout": {
        "coloraxis": {
         "colorbar": {
          "title": {
           "text": "Satisfaction"
          }
         },
         "colorscale": [
          [
           0,
           "#0d0887"
          ],
          [
           0.1111111111111111,
           "#46039f"
          ],
          [
           0.2222222222222222,
           "#7201a8"
          ],
          [
           0.3333333333333333,
           "#9c179e"
          ],
          [
           0.4444444444444444,
           "#bd3786"
          ],
          [
           0.5555555555555556,
           "#d8576b"
          ],
          [
           0.6666666666666666,
           "#ed7953"
          ],
          [
           0.7777777777777778,
           "#fb9f3a"
          ],
          [
           0.8888888888888888,
           "#fdca26"
          ],
          [
           1,
           "#f0f921"
          ]
         ]
        },
        "legend": {
         "tracegroupgap": 0
        },
        "scene": {
         "domain": {
          "x": [
           0,
           1
          ],
          "y": [
           0,
           1
          ]
         },
         "xaxis": {
          "title": {
           "text": "PC1"
          }
         },
         "yaxis": {
          "title": {
           "text": "PC2"
          }
         },
         "zaxis": {
          "title": {
           "text": "PC3"
          }
         }
        },
        "template": {
         "data": {
          "bar": [
           {
            "error_x": {
             "color": "#2a3f5f"
            },
            "error_y": {
             "color": "#2a3f5f"
            },
            "marker": {
             "line": {
              "color": "#E5ECF6",
              "width": 0.5
             },
             "pattern": {
              "fillmode": "overlay",
              "size": 10,
              "solidity": 0.2
             }
            },
            "type": "bar"
           }
          ],
          "barpolar": [
           {
            "marker": {
             "line": {
              "color": "#E5ECF6",
              "width": 0.5
             },
             "pattern": {
              "fillmode": "overlay",
              "size": 10,
              "solidity": 0.2
             }
            },
            "type": "barpolar"
           }
          ],
          "carpet": [
           {
            "aaxis": {
             "endlinecolor": "#2a3f5f",
             "gridcolor": "white",
             "linecolor": "white",
             "minorgridcolor": "white",
             "startlinecolor": "#2a3f5f"
            },
            "baxis": {
             "endlinecolor": "#2a3f5f",
             "gridcolor": "white",
             "linecolor": "white",
             "minorgridcolor": "white",
             "startlinecolor": "#2a3f5f"
            },
            "type": "carpet"
           }
          ],
          "choropleth": [
           {
            "colorbar": {
             "outlinewidth": 0,
             "ticks": ""
            },
            "type": "choropleth"
           }
          ],
          "contour": [
           {
            "colorbar": {
             "outlinewidth": 0,
             "ticks": ""
            },
            "colorscale": [
             [
              0,
              "#0d0887"
             ],
             [
              0.1111111111111111,
              "#46039f"
             ],
             [
              0.2222222222222222,
              "#7201a8"
             ],
             [
              0.3333333333333333,
              "#9c179e"
             ],
             [
              0.4444444444444444,
              "#bd3786"
             ],
             [
              0.5555555555555556,
              "#d8576b"
             ],
             [
              0.6666666666666666,
              "#ed7953"
             ],
             [
              0.7777777777777778,
              "#fb9f3a"
             ],
             [
              0.8888888888888888,
              "#fdca26"
             ],
             [
              1,
              "#f0f921"
             ]
            ],
            "type": "contour"
           }
          ],
          "contourcarpet": [
           {
            "colorbar": {
             "outlinewidth": 0,
             "ticks": ""
            },
            "type": "contourcarpet"
           }
          ],
          "heatmap": [
           {
            "colorbar": {
             "outlinewidth": 0,
             "ticks": ""
            },
            "colorscale": [
             [
              0,
              "#0d0887"
             ],
             [
              0.1111111111111111,
              "#46039f"
             ],
             [
              0.2222222222222222,
              "#7201a8"
             ],
             [
              0.3333333333333333,
              "#9c179e"
             ],
             [
              0.4444444444444444,
              "#bd3786"
             ],
             [
              0.5555555555555556,
              "#d8576b"
             ],
             [
              0.6666666666666666,
              "#ed7953"
             ],
             [
              0.7777777777777778,
              "#fb9f3a"
             ],
             [
              0.8888888888888888,
              "#fdca26"
             ],
             [
              1,
              "#f0f921"
             ]
            ],
            "type": "heatmap"
           }
          ],
          "heatmapgl": [
           {
            "colorbar": {
             "outlinewidth": 0,
             "ticks": ""
            },
            "colorscale": [
             [
              0,
              "#0d0887"
             ],
             [
              0.1111111111111111,
              "#46039f"
             ],
             [
              0.2222222222222222,
              "#7201a8"
             ],
             [
              0.3333333333333333,
              "#9c179e"
             ],
             [
              0.4444444444444444,
              "#bd3786"
             ],
             [
              0.5555555555555556,
              "#d8576b"
             ],
             [
              0.6666666666666666,
              "#ed7953"
             ],
             [
              0.7777777777777778,
              "#fb9f3a"
             ],
             [
              0.8888888888888888,
              "#fdca26"
             ],
             [
              1,
              "#f0f921"
             ]
            ],
            "type": "heatmapgl"
           }
          ],
          "histogram": [
           {
            "marker": {
             "pattern": {
              "fillmode": "overlay",
              "size": 10,
              "solidity": 0.2
             }
            },
            "type": "histogram"
           }
          ],
          "histogram2d": [
           {
            "colorbar": {
             "outlinewidth": 0,
             "ticks": ""
            },
            "colorscale": [
             [
              0,
              "#0d0887"
             ],
             [
              0.1111111111111111,
              "#46039f"
             ],
             [
              0.2222222222222222,
              "#7201a8"
             ],
             [
              0.3333333333333333,
              "#9c179e"
             ],
             [
              0.4444444444444444,
              "#bd3786"
             ],
             [
              0.5555555555555556,
              "#d8576b"
             ],
             [
              0.6666666666666666,
              "#ed7953"
             ],
             [
              0.7777777777777778,
              "#fb9f3a"
             ],
             [
              0.8888888888888888,
              "#fdca26"
             ],
             [
              1,
              "#f0f921"
             ]
            ],
            "type": "histogram2d"
           }
          ],
          "histogram2dcontour": [
           {
            "colorbar": {
             "outlinewidth": 0,
             "ticks": ""
            },
            "colorscale": [
             [
              0,
              "#0d0887"
             ],
             [
              0.1111111111111111,
              "#46039f"
             ],
             [
              0.2222222222222222,
              "#7201a8"
             ],
             [
              0.3333333333333333,
              "#9c179e"
             ],
             [
              0.4444444444444444,
              "#bd3786"
             ],
             [
              0.5555555555555556,
              "#d8576b"
             ],
             [
              0.6666666666666666,
              "#ed7953"
             ],
             [
              0.7777777777777778,
              "#fb9f3a"
             ],
             [
              0.8888888888888888,
              "#fdca26"
             ],
             [
              1,
              "#f0f921"
             ]
            ],
            "type": "histogram2dcontour"
           }
          ],
          "mesh3d": [
           {
            "colorbar": {
             "outlinewidth": 0,
             "ticks": ""
            },
            "type": "mesh3d"
           }
          ],
          "parcoords": [
           {
            "line": {
             "colorbar": {
              "outlinewidth": 0,
              "ticks": ""
             }
            },
            "type": "parcoords"
           }
          ],
          "pie": [
           {
            "automargin": true,
            "type": "pie"
           }
          ],
          "scatter": [
           {
            "fillpattern": {
             "fillmode": "overlay",
             "size": 10,
             "solidity": 0.2
            },
            "type": "scatter"
           }
          ],
          "scatter3d": [
           {
            "line": {
             "colorbar": {
              "outlinewidth": 0,
              "ticks": ""
             }
            },
            "marker": {
             "colorbar": {
              "outlinewidth": 0,
              "ticks": ""
             }
            },
            "type": "scatter3d"
           }
          ],
          "scattercarpet": [
           {
            "marker": {
             "colorbar": {
              "outlinewidth": 0,
              "ticks": ""
             }
            },
            "type": "scattercarpet"
           }
          ],
          "scattergeo": [
           {
            "marker": {
             "colorbar": {
              "outlinewidth": 0,
              "ticks": ""
             }
            },
            "type": "scattergeo"
           }
          ],
          "scattergl": [
           {
            "marker": {
             "colorbar": {
              "outlinewidth": 0,
              "ticks": ""
             }
            },
            "type": "scattergl"
           }
          ],
          "scattermapbox": [
           {
            "marker": {
             "colorbar": {
              "outlinewidth": 0,
              "ticks": ""
             }
            },
            "type": "scattermapbox"
           }
          ],
          "scatterpolar": [
           {
            "marker": {
             "colorbar": {
              "outlinewidth": 0,
              "ticks": ""
             }
            },
            "type": "scatterpolar"
           }
          ],
          "scatterpolargl": [
           {
            "marker": {
             "colorbar": {
              "outlinewidth": 0,
              "ticks": ""
             }
            },
            "type": "scatterpolargl"
           }
          ],
          "scatterternary": [
           {
            "marker": {
             "colorbar": {
              "outlinewidth": 0,
              "ticks": ""
             }
            },
            "type": "scatterternary"
           }
          ],
          "surface": [
           {
            "colorbar": {
             "outlinewidth": 0,
             "ticks": ""
            },
            "colorscale": [
             [
              0,
              "#0d0887"
             ],
             [
              0.1111111111111111,
              "#46039f"
             ],
             [
              0.2222222222222222,
              "#7201a8"
             ],
             [
              0.3333333333333333,
              "#9c179e"
             ],
             [
              0.4444444444444444,
              "#bd3786"
             ],
             [
              0.5555555555555556,
              "#d8576b"
             ],
             [
              0.6666666666666666,
              "#ed7953"
             ],
             [
              0.7777777777777778,
              "#fb9f3a"
             ],
             [
              0.8888888888888888,
              "#fdca26"
             ],
             [
              1,
              "#f0f921"
             ]
            ],
            "type": "surface"
           }
          ],
          "table": [
           {
            "cells": {
             "fill": {
              "color": "#EBF0F8"
             },
             "line": {
              "color": "white"
             }
            },
            "header": {
             "fill": {
              "color": "#C8D4E3"
             },
             "line": {
              "color": "white"
             }
            },
            "type": "table"
           }
          ]
         },
         "layout": {
          "annotationdefaults": {
           "arrowcolor": "#2a3f5f",
           "arrowhead": 0,
           "arrowwidth": 1
          },
          "autotypenumbers": "strict",
          "coloraxis": {
           "colorbar": {
            "outlinewidth": 0,
            "ticks": ""
           }
          },
          "colorscale": {
           "diverging": [
            [
             0,
             "#8e0152"
            ],
            [
             0.1,
             "#c51b7d"
            ],
            [
             0.2,
             "#de77ae"
            ],
            [
             0.3,
             "#f1b6da"
            ],
            [
             0.4,
             "#fde0ef"
            ],
            [
             0.5,
             "#f7f7f7"
            ],
            [
             0.6,
             "#e6f5d0"
            ],
            [
             0.7,
             "#b8e186"
            ],
            [
             0.8,
             "#7fbc41"
            ],
            [
             0.9,
             "#4d9221"
            ],
            [
             1,
             "#276419"
            ]
           ],
           "sequential": [
            [
             0,
             "#0d0887"
            ],
            [
             0.1111111111111111,
             "#46039f"
            ],
            [
             0.2222222222222222,
             "#7201a8"
            ],
            [
             0.3333333333333333,
             "#9c179e"
            ],
            [
             0.4444444444444444,
             "#bd3786"
            ],
            [
             0.5555555555555556,
             "#d8576b"
            ],
            [
             0.6666666666666666,
             "#ed7953"
            ],
            [
             0.7777777777777778,
             "#fb9f3a"
            ],
            [
             0.8888888888888888,
             "#fdca26"
            ],
            [
             1,
             "#f0f921"
            ]
           ],
           "sequentialminus": [
            [
             0,
             "#0d0887"
            ],
            [
             0.1111111111111111,
             "#46039f"
            ],
            [
             0.2222222222222222,
             "#7201a8"
            ],
            [
             0.3333333333333333,
             "#9c179e"
            ],
            [
             0.4444444444444444,
             "#bd3786"
            ],
            [
             0.5555555555555556,
             "#d8576b"
            ],
            [
             0.6666666666666666,
             "#ed7953"
            ],
            [
             0.7777777777777778,
             "#fb9f3a"
            ],
            [
             0.8888888888888888,
             "#fdca26"
            ],
            [
             1,
             "#f0f921"
            ]
           ]
          },
          "colorway": [
           "#636efa",
           "#EF553B",
           "#00cc96",
           "#ab63fa",
           "#FFA15A",
           "#19d3f3",
           "#FF6692",
           "#B6E880",
           "#FF97FF",
           "#FECB52"
          ],
          "font": {
           "color": "#2a3f5f"
          },
          "geo": {
           "bgcolor": "white",
           "lakecolor": "white",
           "landcolor": "#E5ECF6",
           "showlakes": true,
           "showland": true,
           "subunitcolor": "white"
          },
          "hoverlabel": {
           "align": "left"
          },
          "hovermode": "closest",
          "mapbox": {
           "style": "light"
          },
          "paper_bgcolor": "white",
          "plot_bgcolor": "#E5ECF6",
          "polar": {
           "angularaxis": {
            "gridcolor": "white",
            "linecolor": "white",
            "ticks": ""
           },
           "bgcolor": "#E5ECF6",
           "radialaxis": {
            "gridcolor": "white",
            "linecolor": "white",
            "ticks": ""
           }
          },
          "scene": {
           "xaxis": {
            "backgroundcolor": "#E5ECF6",
            "gridcolor": "white",
            "gridwidth": 2,
            "linecolor": "white",
            "showbackground": true,
            "ticks": "",
            "zerolinecolor": "white"
           },
           "yaxis": {
            "backgroundcolor": "#E5ECF6",
            "gridcolor": "white",
            "gridwidth": 2,
            "linecolor": "white",
            "showbackground": true,
            "ticks": "",
            "zerolinecolor": "white"
           },
           "zaxis": {
            "backgroundcolor": "#E5ECF6",
            "gridcolor": "white",
            "gridwidth": 2,
            "linecolor": "white",
            "showbackground": true,
            "ticks": "",
            "zerolinecolor": "white"
           }
          },
          "shapedefaults": {
           "line": {
            "color": "#2a3f5f"
           }
          },
          "ternary": {
           "aaxis": {
            "gridcolor": "white",
            "linecolor": "white",
            "ticks": ""
           },
           "baxis": {
            "gridcolor": "white",
            "linecolor": "white",
            "ticks": ""
           },
           "bgcolor": "#E5ECF6",
           "caxis": {
            "gridcolor": "white",
            "linecolor": "white",
            "ticks": ""
           }
          },
          "title": {
           "x": 0.05
          },
          "xaxis": {
           "automargin": true,
           "gridcolor": "white",
           "linecolor": "white",
           "ticks": "",
           "title": {
            "standoff": 15
           },
           "zerolinecolor": "white",
           "zerolinewidth": 2
          },
          "yaxis": {
           "automargin": true,
           "gridcolor": "white",
           "linecolor": "white",
           "ticks": "",
           "title": {
            "standoff": 15
           },
           "zerolinecolor": "white",
           "zerolinewidth": 2
          }
         }
        },
        "title": {
         "text": "Graphique 3D interactif avec réduction de dimensionnalité (échantillon de 100 points)"
        }
       }
      }
     },
     "metadata": {},
     "output_type": "display_data"
    }
   ],
   "source": [
    "import pandas as pd\n",
    "import plotly.express as px\n",
    "from sklearn.decomposition import PCA\n",
    "\n",
    "\n",
    "pca = PCA(n_components=3)\n",
    "data_3d = pca.fit_transform(data[['Food_and_drink', 'Inflight_service', 'Flight_Distance', 'Inflight_wifi_service', 'Online_boarding', 'Age', 'Satisfaction']])\n",
    "\n",
    "data_3d_df = pd.DataFrame(data_3d, columns=['PC1', 'PC2', 'PC3'])\n",
    "\n",
    "data_sampled = data_3d_df.sample(n=100)\n",
    "data_sampled['Satisfaction'] = data['Satisfaction']  \n",
    "fig = px.scatter_3d(data_sampled, x='PC1', y='PC2', z='PC3', color='Satisfaction',\n",
    "                    title='Graphique 3D interactif avec réduction de dimensionnalité (échantillon de 100 points)')\n",
    "\n",
    "fig.show()\n"
   ]
  }
 ],
 "metadata": {
  "kernelspec": {
   "display_name": "base",
   "language": "python",
   "name": "python3"
  },
  "language_info": {
   "codemirror_mode": {
    "name": "ipython",
    "version": 3
   },
   "file_extension": ".py",
   "mimetype": "text/x-python",
   "name": "python",
   "nbconvert_exporter": "python",
   "pygments_lexer": "ipython3",
   "version": "3.11.4"
  }
 },
 "nbformat": 4,
 "nbformat_minor": 2
}
